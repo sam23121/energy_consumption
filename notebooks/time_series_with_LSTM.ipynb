{
 "cells": [
  {
   "cell_type": "code",
   "execution_count": 24,
   "metadata": {},
   "outputs": [],
   "source": [
    "\n",
    "import numpy as np\n",
    "import matplotlib.pyplot as plt\n",
    "import pandas as pd\n",
    "from pandas import Series\n",
    "import tensorflow as tf\n",
    "from tensorflow.keras.models import Sequential\n",
    "from tensorflow.keras.layers import Dense\n",
    "from tensorflow.keras.layers import LSTM\n",
    "from sklearn.preprocessing import MinMaxScaler\n",
    "from sklearn.metrics import mean_squared_error\n",
    "from math import sqrt\n",
    "from matplotlib import pyplot"
   ]
  },
  {
   "cell_type": "code",
   "execution_count": 7,
   "metadata": {},
   "outputs": [],
   "source": [
    "dataframe = pd.read_csv('/home/sam/Documents/projects/practice/tme_series/data/single_bill.csv', usecols=[1], engine='python')\n",
    "dataset = dataframe.values\n",
    "dataset = dataset.astype('float32')"
   ]
  },
  {
   "cell_type": "code",
   "execution_count": 8,
   "metadata": {},
   "outputs": [],
   "source": [
    "\n",
    "# normalize the dataset\n",
    "scaler = MinMaxScaler(feature_range=(0, 1))\n",
    "dataset = scaler.fit_transform(dataset)"
   ]
  },
  {
   "cell_type": "code",
   "execution_count": 9,
   "metadata": {},
   "outputs": [
    {
     "name": "stdout",
     "output_type": "stream",
     "text": [
      "32 16\n"
     ]
    }
   ],
   "source": [
    "\n",
    "# split into train and test sets\n",
    "train_size = int(len(dataset) * 0.67)\n",
    "test_size = len(dataset) - train_size\n",
    "train, test = dataset[0:train_size,:], dataset[train_size:len(dataset),:]\n",
    "print(len(train), len(test))"
   ]
  },
  {
   "cell_type": "code",
   "execution_count": 10,
   "metadata": {},
   "outputs": [],
   "source": [
    "\n",
    "# convert an array of values into a dataset matrix\n",
    "def create_dataset(dataset, look_back=1):\n",
    "    dataX, dataY = [], []\n",
    "    for i in range(len(dataset)-look_back-1):\n",
    "        a = dataset[i:(i+look_back), 0]\n",
    "        dataX.append(a)\n",
    "        dataY.append(dataset[i + look_back, 0])\n",
    "    return np.array(dataX), np.array(dataY)"
   ]
  },
  {
   "cell_type": "code",
   "execution_count": 11,
   "metadata": {},
   "outputs": [],
   "source": [
    "\n",
    "# reshape into X=t and Y=t+1\n",
    "look_back = 1\n",
    "trainX, trainY = create_dataset(train, look_back)\n",
    "testX, testY = create_dataset(test, look_back)"
   ]
  },
  {
   "cell_type": "code",
   "execution_count": 12,
   "metadata": {},
   "outputs": [],
   "source": [
    "# reshape input to be [samples, time steps, features]\n",
    "trainX = np.reshape(trainX, (trainX.shape[0], 1, trainX.shape[1]))\n",
    "testX = np.reshape(testX, (testX.shape[0], 1, testX.shape[1]))"
   ]
  },
  {
   "cell_type": "code",
   "execution_count": 13,
   "metadata": {},
   "outputs": [
    {
     "name": "stderr",
     "output_type": "stream",
     "text": [
      "2024-05-10 21:41:59.631319: I tensorflow/compiler/xla/stream_executor/cuda/cuda_gpu_executor.cc:981] successful NUMA node read from SysFS had negative value (-1), but there must be at least one NUMA node, so returning NUMA node zero\n",
      "2024-05-10 21:41:59.748578: W tensorflow/compiler/xla/stream_executor/platform/default/dso_loader.cc:64] Could not load dynamic library 'libcudnn.so.8'; dlerror: libcudnn.so.8: cannot open shared object file: No such file or directory; LD_LIBRARY_PATH: /u01/app/oracle/product/11.2.0/xe/lib:\n",
      "2024-05-10 21:41:59.749048: W tensorflow/core/common_runtime/gpu/gpu_device.cc:1934] Cannot dlopen some GPU libraries. Please make sure the missing libraries mentioned above are installed properly if you would like to use GPU. Follow the guide at https://www.tensorflow.org/install/gpu for how to download and setup the required libraries for your platform.\n",
      "Skipping registering GPU devices...\n",
      "2024-05-10 21:41:59.752562: I tensorflow/core/platform/cpu_feature_guard.cc:193] This TensorFlow binary is optimized with oneAPI Deep Neural Network Library (oneDNN) to use the following CPU instructions in performance-critical operations:  AVX2 FMA\n",
      "To enable them in other operations, rebuild TensorFlow with the appropriate compiler flags.\n"
     ]
    },
    {
     "name": "stdout",
     "output_type": "stream",
     "text": [
      "Epoch 1/100\n",
      "30/30 - 1s - loss: 0.3902 - 1s/epoch - 36ms/step\n",
      "Epoch 2/100\n",
      "30/30 - 0s - loss: 0.3309 - 46ms/epoch - 2ms/step\n",
      "Epoch 3/100\n",
      "30/30 - 0s - loss: 0.2780 - 30ms/epoch - 984us/step\n",
      "Epoch 4/100\n",
      "30/30 - 0s - loss: 0.2341 - 30ms/epoch - 1ms/step\n",
      "Epoch 5/100\n",
      "30/30 - 0s - loss: 0.1961 - 44ms/epoch - 1ms/step\n",
      "Epoch 6/100\n",
      "30/30 - 0s - loss: 0.1651 - 51ms/epoch - 2ms/step\n",
      "Epoch 7/100\n",
      "30/30 - 0s - loss: 0.1433 - 43ms/epoch - 1ms/step\n",
      "Epoch 8/100\n",
      "30/30 - 0s - loss: 0.1262 - 52ms/epoch - 2ms/step\n",
      "Epoch 9/100\n",
      "30/30 - 0s - loss: 0.1166 - 40ms/epoch - 1ms/step\n",
      "Epoch 10/100\n",
      "30/30 - 0s - loss: 0.1094 - 39ms/epoch - 1ms/step\n",
      "Epoch 11/100\n",
      "30/30 - 0s - loss: 0.1056 - 46ms/epoch - 2ms/step\n",
      "Epoch 12/100\n",
      "30/30 - 0s - loss: 0.1031 - 25ms/epoch - 820us/step\n",
      "Epoch 13/100\n",
      "30/30 - 0s - loss: 0.1015 - 44ms/epoch - 1ms/step\n",
      "Epoch 14/100\n",
      "30/30 - 0s - loss: 0.1006 - 44ms/epoch - 1ms/step\n",
      "Epoch 15/100\n",
      "30/30 - 0s - loss: 0.0997 - 51ms/epoch - 2ms/step\n",
      "Epoch 16/100\n",
      "30/30 - 0s - loss: 0.0999 - 29ms/epoch - 972us/step\n",
      "Epoch 17/100\n",
      "30/30 - 0s - loss: 0.0985 - 33ms/epoch - 1ms/step\n",
      "Epoch 18/100\n",
      "30/30 - 0s - loss: 0.0982 - 31ms/epoch - 1ms/step\n",
      "Epoch 19/100\n",
      "30/30 - 0s - loss: 0.0980 - 40ms/epoch - 1ms/step\n",
      "Epoch 20/100\n",
      "30/30 - 0s - loss: 0.0970 - 44ms/epoch - 1ms/step\n",
      "Epoch 21/100\n",
      "30/30 - 0s - loss: 0.0968 - 47ms/epoch - 2ms/step\n",
      "Epoch 22/100\n",
      "30/30 - 0s - loss: 0.0966 - 38ms/epoch - 1ms/step\n",
      "Epoch 23/100\n",
      "30/30 - 0s - loss: 0.0964 - 81ms/epoch - 3ms/step\n",
      "Epoch 24/100\n",
      "30/30 - 0s - loss: 0.0972 - 92ms/epoch - 3ms/step\n",
      "Epoch 25/100\n",
      "30/30 - 0s - loss: 0.0951 - 34ms/epoch - 1ms/step\n",
      "Epoch 26/100\n",
      "30/30 - 0s - loss: 0.0947 - 32ms/epoch - 1ms/step\n",
      "Epoch 27/100\n",
      "30/30 - 0s - loss: 0.0942 - 41ms/epoch - 1ms/step\n",
      "Epoch 28/100\n",
      "30/30 - 0s - loss: 0.0943 - 29ms/epoch - 962us/step\n",
      "Epoch 29/100\n",
      "30/30 - 0s - loss: 0.0939 - 27ms/epoch - 912us/step\n",
      "Epoch 30/100\n",
      "30/30 - 0s - loss: 0.0935 - 27ms/epoch - 911us/step\n",
      "Epoch 31/100\n",
      "30/30 - 0s - loss: 0.0934 - 25ms/epoch - 838us/step\n",
      "Epoch 32/100\n",
      "30/30 - 0s - loss: 0.0931 - 25ms/epoch - 835us/step\n",
      "Epoch 33/100\n",
      "30/30 - 0s - loss: 0.0927 - 26ms/epoch - 867us/step\n",
      "Epoch 34/100\n",
      "30/30 - 0s - loss: 0.0925 - 25ms/epoch - 833us/step\n",
      "Epoch 35/100\n",
      "30/30 - 0s - loss: 0.0924 - 49ms/epoch - 2ms/step\n",
      "Epoch 36/100\n",
      "30/30 - 0s - loss: 0.0924 - 45ms/epoch - 1ms/step\n",
      "Epoch 37/100\n",
      "30/30 - 0s - loss: 0.0914 - 51ms/epoch - 2ms/step\n",
      "Epoch 38/100\n",
      "30/30 - 0s - loss: 0.0909 - 52ms/epoch - 2ms/step\n",
      "Epoch 39/100\n",
      "30/30 - 0s - loss: 0.0907 - 32ms/epoch - 1ms/step\n",
      "Epoch 40/100\n",
      "30/30 - 0s - loss: 0.0905 - 33ms/epoch - 1ms/step\n",
      "Epoch 41/100\n",
      "30/30 - 0s - loss: 0.0908 - 28ms/epoch - 940us/step\n",
      "Epoch 42/100\n",
      "30/30 - 0s - loss: 0.0906 - 42ms/epoch - 1ms/step\n",
      "Epoch 43/100\n",
      "30/30 - 0s - loss: 0.0896 - 46ms/epoch - 2ms/step\n",
      "Epoch 44/100\n",
      "30/30 - 0s - loss: 0.0899 - 25ms/epoch - 833us/step\n",
      "Epoch 45/100\n",
      "30/30 - 0s - loss: 0.0892 - 51ms/epoch - 2ms/step\n",
      "Epoch 46/100\n",
      "30/30 - 0s - loss: 0.0902 - 51ms/epoch - 2ms/step\n",
      "Epoch 47/100\n",
      "30/30 - 0s - loss: 0.0896 - 51ms/epoch - 2ms/step\n",
      "Epoch 48/100\n",
      "30/30 - 0s - loss: 0.0897 - 50ms/epoch - 2ms/step\n",
      "Epoch 49/100\n",
      "30/30 - 0s - loss: 0.0886 - 27ms/epoch - 886us/step\n",
      "Epoch 50/100\n",
      "30/30 - 0s - loss: 0.0888 - 25ms/epoch - 841us/step\n",
      "Epoch 51/100\n",
      "30/30 - 0s - loss: 0.0883 - 41ms/epoch - 1ms/step\n",
      "Epoch 52/100\n",
      "30/30 - 0s - loss: 0.0879 - 50ms/epoch - 2ms/step\n",
      "Epoch 53/100\n",
      "30/30 - 0s - loss: 0.0881 - 50ms/epoch - 2ms/step\n",
      "Epoch 54/100\n",
      "30/30 - 0s - loss: 0.0879 - 44ms/epoch - 1ms/step\n",
      "Epoch 55/100\n",
      "30/30 - 0s - loss: 0.0876 - 52ms/epoch - 2ms/step\n",
      "Epoch 56/100\n",
      "30/30 - 0s - loss: 0.0875 - 42ms/epoch - 1ms/step\n",
      "Epoch 57/100\n",
      "30/30 - 0s - loss: 0.0872 - 36ms/epoch - 1ms/step\n",
      "Epoch 58/100\n",
      "30/30 - 0s - loss: 0.0871 - 52ms/epoch - 2ms/step\n",
      "Epoch 59/100\n",
      "30/30 - 0s - loss: 0.0873 - 50ms/epoch - 2ms/step\n",
      "Epoch 60/100\n",
      "30/30 - 0s - loss: 0.0873 - 41ms/epoch - 1ms/step\n",
      "Epoch 61/100\n",
      "30/30 - 0s - loss: 0.0868 - 24ms/epoch - 795us/step\n",
      "Epoch 62/100\n",
      "30/30 - 0s - loss: 0.0870 - 25ms/epoch - 836us/step\n",
      "Epoch 63/100\n",
      "30/30 - 0s - loss: 0.0866 - 26ms/epoch - 877us/step\n",
      "Epoch 64/100\n",
      "30/30 - 0s - loss: 0.0862 - 27ms/epoch - 895us/step\n",
      "Epoch 65/100\n",
      "30/30 - 0s - loss: 0.0862 - 49ms/epoch - 2ms/step\n",
      "Epoch 66/100\n",
      "30/30 - 0s - loss: 0.0867 - 28ms/epoch - 933us/step\n",
      "Epoch 67/100\n",
      "30/30 - 0s - loss: 0.0859 - 38ms/epoch - 1ms/step\n",
      "Epoch 68/100\n",
      "30/30 - 0s - loss: 0.0859 - 37ms/epoch - 1ms/step\n",
      "Epoch 69/100\n",
      "30/30 - 0s - loss: 0.0855 - 44ms/epoch - 1ms/step\n",
      "Epoch 70/100\n",
      "30/30 - 0s - loss: 0.0860 - 28ms/epoch - 928us/step\n",
      "Epoch 71/100\n",
      "30/30 - 0s - loss: 0.0862 - 43ms/epoch - 1ms/step\n",
      "Epoch 72/100\n",
      "30/30 - 0s - loss: 0.0853 - 55ms/epoch - 2ms/step\n",
      "Epoch 73/100\n",
      "30/30 - 0s - loss: 0.0853 - 51ms/epoch - 2ms/step\n",
      "Epoch 74/100\n",
      "30/30 - 0s - loss: 0.0850 - 44ms/epoch - 1ms/step\n",
      "Epoch 75/100\n",
      "30/30 - 0s - loss: 0.0858 - 46ms/epoch - 2ms/step\n",
      "Epoch 76/100\n",
      "30/30 - 0s - loss: 0.0853 - 38ms/epoch - 1ms/step\n",
      "Epoch 77/100\n",
      "30/30 - 0s - loss: 0.0850 - 39ms/epoch - 1ms/step\n",
      "Epoch 78/100\n",
      "30/30 - 0s - loss: 0.0849 - 45ms/epoch - 1ms/step\n",
      "Epoch 79/100\n",
      "30/30 - 0s - loss: 0.0857 - 31ms/epoch - 1ms/step\n",
      "Epoch 80/100\n",
      "30/30 - 0s - loss: 0.0855 - 33ms/epoch - 1ms/step\n",
      "Epoch 81/100\n",
      "30/30 - 0s - loss: 0.0846 - 34ms/epoch - 1ms/step\n",
      "Epoch 82/100\n",
      "30/30 - 0s - loss: 0.0844 - 41ms/epoch - 1ms/step\n",
      "Epoch 83/100\n",
      "30/30 - 0s - loss: 0.0845 - 31ms/epoch - 1ms/step\n",
      "Epoch 84/100\n",
      "30/30 - 0s - loss: 0.0842 - 34ms/epoch - 1ms/step\n",
      "Epoch 85/100\n",
      "30/30 - 0s - loss: 0.0842 - 55ms/epoch - 2ms/step\n",
      "Epoch 86/100\n",
      "30/30 - 0s - loss: 0.0841 - 51ms/epoch - 2ms/step\n",
      "Epoch 87/100\n",
      "30/30 - 0s - loss: 0.0842 - 44ms/epoch - 1ms/step\n",
      "Epoch 88/100\n",
      "30/30 - 0s - loss: 0.0843 - 43ms/epoch - 1ms/step\n",
      "Epoch 89/100\n",
      "30/30 - 0s - loss: 0.0840 - 39ms/epoch - 1ms/step\n",
      "Epoch 90/100\n",
      "30/30 - 0s - loss: 0.0841 - 49ms/epoch - 2ms/step\n",
      "Epoch 91/100\n",
      "30/30 - 0s - loss: 0.0843 - 53ms/epoch - 2ms/step\n",
      "Epoch 92/100\n",
      "30/30 - 0s - loss: 0.0842 - 52ms/epoch - 2ms/step\n",
      "Epoch 93/100\n",
      "30/30 - 0s - loss: 0.0839 - 53ms/epoch - 2ms/step\n",
      "Epoch 94/100\n",
      "30/30 - 0s - loss: 0.0846 - 54ms/epoch - 2ms/step\n",
      "Epoch 95/100\n",
      "30/30 - 0s - loss: 0.0838 - 41ms/epoch - 1ms/step\n",
      "Epoch 96/100\n",
      "30/30 - 0s - loss: 0.0837 - 49ms/epoch - 2ms/step\n",
      "Epoch 97/100\n",
      "30/30 - 0s - loss: 0.0843 - 34ms/epoch - 1ms/step\n",
      "Epoch 98/100\n",
      "30/30 - 0s - loss: 0.0835 - 36ms/epoch - 1ms/step\n",
      "Epoch 99/100\n",
      "30/30 - 0s - loss: 0.0837 - 51ms/epoch - 2ms/step\n",
      "Epoch 100/100\n",
      "30/30 - 0s - loss: 0.0845 - 55ms/epoch - 2ms/step\n"
     ]
    },
    {
     "data": {
      "text/plain": [
       "<keras.callbacks.History at 0x7f2a3f85cd90>"
      ]
     },
     "execution_count": 13,
     "metadata": {},
     "output_type": "execute_result"
    }
   ],
   "source": [
    "\n",
    "# create and fit the LSTM network\n",
    "model = Sequential()\n",
    "model.add(LSTM(4, input_shape=(1, look_back)))\n",
    "model.add(Dense(1))\n",
    "model.compile(loss='mean_squared_error', optimizer='adam')\n",
    "model.fit(trainX, trainY, epochs=100, batch_size=1, verbose=2)"
   ]
  },
  {
   "cell_type": "code",
   "execution_count": 14,
   "metadata": {},
   "outputs": [
    {
     "name": "stdout",
     "output_type": "stream",
     "text": [
      "1/1 [==============================] - 0s 360ms/step\n",
      "1/1 [==============================] - 0s 14ms/step\n",
      "Train Score: 643.12 RMSE\n",
      "Test Score: 659.66 RMSE\n"
     ]
    }
   ],
   "source": [
    "\n",
    "# make predictions\n",
    "trainPredict = model.predict(trainX)\n",
    "testPredict = model.predict(testX)\n",
    "# invert predictions\n",
    "trainPredict = scaler.inverse_transform(trainPredict)\n",
    "trainY = scaler.inverse_transform([trainY])\n",
    "testPredict = scaler.inverse_transform(testPredict)\n",
    "testY = scaler.inverse_transform([testY])\n",
    "# calculate root mean squared error\n",
    "trainScore = np.sqrt(mean_squared_error(trainY[0], trainPredict[:,0]))\n",
    "print('Train Score: %.2f RMSE' % (trainScore))\n",
    "testScore = np.sqrt(mean_squared_error(testY[0], testPredict[:,0]))\n",
    "print('Test Score: %.2f RMSE' % (testScore))"
   ]
  },
  {
   "cell_type": "code",
   "execution_count": null,
   "metadata": {},
   "outputs": [],
   "source": []
  },
  {
   "cell_type": "code",
   "execution_count": 15,
   "metadata": {},
   "outputs": [],
   "source": [
    "train, test = dataset[0:-12], dataset[-12:]\n"
   ]
  },
  {
   "cell_type": "code",
   "execution_count": 16,
   "metadata": {},
   "outputs": [],
   "source": [
    "# walk-forward validation\n",
    "history = [x for x in train]\n",
    "predictions = list()\n",
    "for i in range(len(test)):\n",
    " # make prediction\n",
    " predictions.append(history[-1])\n",
    " # observation\n",
    " history.append(test[i])"
   ]
  },
  {
   "cell_type": "code",
   "execution_count": 19,
   "metadata": {},
   "outputs": [
    {
     "name": "stdout",
     "output_type": "stream",
     "text": [
      "RMSE: 0.420\n"
     ]
    }
   ],
   "source": [
    "rmse = sqrt(mean_squared_error(test, predictions))\n",
    "print('RMSE: %.3f' % rmse)"
   ]
  },
  {
   "cell_type": "code",
   "execution_count": 20,
   "metadata": {},
   "outputs": [
    {
     "data": {
      "image/png": "[encoded data removed]",
      "text/plain": [
       "<Figure size 640x480 with 1 Axes>"
      ]
     },
     "metadata": {},
     "output_type": "display_data"
    }
   ],
   "source": [
    "pyplot.plot(test)\n",
    "pyplot.plot(predictions)\n",
    "pyplot.show()"
   ]
  },
  {
   "cell_type": "code",
   "execution_count": 22,
   "metadata": {},
   "outputs": [],
   "source": [
    "\n",
    "# frame a sequence as a supervised learning problem\n",
    "def timeseries_to_supervised(data, lag=1):\n",
    " df = pd.DataFrame(data)\n",
    " columns = [df.shift(i) for i in range(1, lag+1)]\n",
    " columns.append(df)\n",
    " df = pd.concat(columns, axis=1)\n",
    " df.fillna(0, inplace=True)\n",
    " return df"
   ]
  },
  {
   "cell_type": "code",
   "execution_count": 23,
   "metadata": {},
   "outputs": [
    {
     "name": "stdout",
     "output_type": "stream",
     "text": [
      "          0         0\n",
      "0  0.000000  0.062752\n",
      "1  0.062752  0.908561\n",
      "2  0.908561  0.255939\n",
      "3  0.255939  0.671000\n",
      "4  0.671000  0.325863\n"
     ]
    }
   ],
   "source": [
    "supervised = timeseries_to_supervised(dataset, 1)\n",
    "print(supervised.head())"
   ]
  },
  {
   "cell_type": "code",
   "execution_count": 26,
   "metadata": {},
   "outputs": [],
   "source": [
    "# create a differenced series\n",
    "def difference(dataset, interval=1):\n",
    "    diff = list()\n",
    "    for i in range(interval, len(dataset)):\n",
    "        value = dataset[i] - dataset[i - interval]\n",
    "        diff.append(value)\n",
    "    return Series(diff)"
   ]
  },
  {
   "cell_type": "code",
   "execution_count": 27,
   "metadata": {},
   "outputs": [],
   "source": [
    "\n",
    "# invert differenced value\n",
    "def inverse_difference(history, yhat, interval=1):\n",
    " return yhat + history[-interval]"
   ]
  },
  {
   "cell_type": "code",
   "execution_count": 28,
   "metadata": {},
   "outputs": [
    {
     "name": "stdout",
     "output_type": "stream",
     "text": [
      "0     [0.8458091]\n",
      "1    [-0.6526222]\n",
      "2     [0.4150605]\n",
      "3    [-0.3451367]\n",
      "4    [0.29852086]\n",
      "dtype: object\n",
      "0     [0.9085612]\n",
      "1      [0.255939]\n",
      "2     [0.6709995]\n",
      "3    [0.32586282]\n",
      "4     [0.6243837]\n",
      "dtype: object\n"
     ]
    }
   ],
   "source": [
    "differenced = difference(dataset, 1)\n",
    "print(differenced.head())\n",
    "# invert transform\n",
    "inverted = list()\n",
    "for i in range(len(differenced)):\n",
    "\tvalue = inverse_difference(dataset, differenced[i], len(dataset)-i)\n",
    "\tinverted.append(value)\n",
    "inverted = Series(inverted)\n",
    "print(inverted.head())"
   ]
  },
  {
   "cell_type": "code",
   "execution_count": 31,
   "metadata": {},
   "outputs": [],
   "source": [
    "# transform scale\n",
    "X = differenced.values\n",
    "X = X.reshape(len(X), 1)\n",
    "scaler = MinMaxScaler(feature_range=(-1, 1))\n",
    "scaler = scaler.fit(X)\n",
    "scaled_X = scaler.transform(X)"
   ]
  },
  {
   "cell_type": "code",
   "execution_count": 32,
   "metadata": {},
   "outputs": [],
   "source": [
    "inverted_X = scaler.inverse_transform(scaled_X)"
   ]
  },
  {
   "cell_type": "code",
   "execution_count": 33,
   "metadata": {},
   "outputs": [
    {
     "name": "stdout",
     "output_type": "stream",
     "text": [
      "0    0.845809\n",
      "1   -0.652622\n",
      "2    0.415060\n",
      "3   -0.345137\n",
      "4    0.298521\n",
      "dtype: float64\n"
     ]
    }
   ],
   "source": [
    "inverted_series = Series(inverted_X[:, 0])\n",
    "print(inverted_series.head())"
   ]
  },
  {
   "cell_type": "code",
   "execution_count": 35,
   "metadata": {},
   "outputs": [],
   "source": [
    "def scale(train, test):\n",
    " # fit scaler\n",
    " scaler = MinMaxScaler(feature_range=(-1, 1))\n",
    " scaler = scaler.fit(train)\n",
    " # transform train\n",
    " train = train.reshape(train.shape[0], train.shape[1])\n",
    " train_scaled = scaler.transform(train)\n",
    " # transform test\n",
    " test = test.reshape(test.shape[0], test.shape[1])\n",
    " test_scaled = scaler.transform(test)\n",
    " return scaler, train_scaled, test_scaled"
   ]
  },
  {
   "cell_type": "code",
   "execution_count": null,
   "metadata": {},
   "outputs": [],
   "source": [
    "layer = LSTM(4, batch_input_shape=(1, X.shape[1], X.shape[2]), stateful=True)"
   ]
  },
  {
   "cell_type": "code",
   "execution_count": null,
   "metadata": {},
   "outputs": [],
   "source": [
    "for i in range(1500):\n",
    "    model.fit(X, 4, epochs=1, batch_size=1, verbose=0, shuffle=False)\n",
    "    model.reset_states()"
   ]
  },
  {
   "cell_type": "code",
   "execution_count": 34,
   "metadata": {},
   "outputs": [],
   "source": [
    "\n",
    "def fit_lstm(train, batch_size, nb_epoch, neurons):\n",
    "    X, y = train[:, 0:-1], train[:, -1]\n",
    "    X = X.reshape(X.shape[0], 1, X.shape[1])\n",
    "    model = Sequential()\n",
    "    model.add(LSTM(neurons, batch_input_shape=(batch_size, X.shape[1], X.shape[2]), stateful=True))\n",
    "    model.add(Dense(1))\n",
    "    model.compile(loss='mean_squared_error', optimizer='adam')\n",
    "    for i in range(nb_epoch):\n",
    "        model.fit(X, y, epochs=1, batch_size=batch_size, verbose=0, shuffle=False)\n",
    "        model.reset_states()\n",
    "    return model"
   ]
  },
  {
   "cell_type": "code",
   "execution_count": 36,
   "metadata": {},
   "outputs": [],
   "source": [
    "def invert_scale(scaler, X, value):\n",
    " new_row = [x for x in X] + [value]\n",
    " array = np.array(new_row)\n",
    " array = array.reshape(1, len(array))\n",
    " inverted = scaler.inverse_transform(array)\n",
    " return inverted[0, -1]"
   ]
  },
  {
   "cell_type": "code",
   "execution_count": 37,
   "metadata": {},
   "outputs": [],
   "source": [
    "def forecast_lstm(model, batch_size, X):\n",
    "\tX = X.reshape(1, 1, len(X))\n",
    "\tyhat = model.predict(X, batch_size=batch_size)\n",
    "\treturn yhat[0,0]"
   ]
  },
  {
   "cell_type": "code",
   "execution_count": 39,
   "metadata": {},
   "outputs": [
    {
     "name": "stdout",
     "output_type": "stream",
     "text": [
      "35/35 [==============================] - 0s 971us/step\n",
      "1/1 [==============================] - 0s 12ms/step\n",
      "Month=1, Predicted=0.533882, Expected=0.619901\n",
      "1/1 [==============================] - 0s 11ms/step\n",
      "Month=2, Predicted=0.584692, Expected=0.860152\n",
      "1/1 [==============================] - 0s 12ms/step\n",
      "Month=3, Predicted=0.770611, Expected=0.593456\n",
      "1/1 [==============================] - 0s 16ms/step\n",
      "Month=4, Predicted=0.872931, Expected=0.960556\n",
      "1/1 [==============================] - 0s 12ms/step\n",
      "Month=5, Predicted=0.822775, Expected=0.229493\n",
      "1/1 [==============================] - 0s 14ms/step\n",
      "Month=6, Predicted=0.735550, Expected=0.483640\n",
      "1/1 [==============================] - 0s 13ms/step\n",
      "Month=7, Predicted=0.527405, Expected=0.052891\n",
      "1/1 [==============================] - 0s 13ms/step\n",
      "Month=8, Predicted=0.244512, Expected=0.556701\n",
      "1/1 [==============================] - 0s 13ms/step\n",
      "Month=9, Predicted=0.290932, Expected=0.343792\n",
      "1/1 [==============================] - 0s 12ms/step\n",
      "Month=10, Predicted=0.284419, Expected=0.839982\n",
      "1/1 [==============================] - 0s 15ms/step\n",
      "Month=11, Predicted=0.109216, Expected=0.489018\n",
      "1/1 [==============================] - 0s 11ms/step\n",
      "Month=12, Predicted=0.408271, Expected=0.366203\n",
      "Test RMSE: 0.331\n"
     ]
    },
    {
     "data": {
      "image/png": "[encoded data removed]",
      "text/plain": [
       "<Figure size 640x480 with 1 Axes>"
      ]
     },
     "metadata": {},
     "output_type": "display_data"
    }
   ],
   "source": [
    "# series = read_csv('shampoo-sales.csv', header=0, parse_dates=[0], index_col=0, squeeze=True, date_parser=parser)\n",
    " \n",
    "# transform data to be stationary\n",
    "# raw_values = dataset.values\n",
    "diff_values = difference(dataset, 1)\n",
    " \n",
    "# transform data to be supervised learning\n",
    "supervised = timeseries_to_supervised(diff_values, 1)\n",
    "supervised_values = supervised.values\n",
    " \n",
    "# split data into train and test-sets\n",
    "train, test = supervised_values[0:-12], supervised_values[-12:]\n",
    " \n",
    "# transform the scale of the data\n",
    "scaler, train_scaled, test_scaled = scale(train, test)\n",
    " \n",
    "# fit the model\n",
    "lstm_model = fit_lstm(train_scaled, 1, 3000, 4)\n",
    "# forecast the entire training dataset to build up state for forecasting\n",
    "train_reshaped = train_scaled[:, 0].reshape(len(train_scaled), 1, 1)\n",
    "lstm_model.predict(train_reshaped, batch_size=1)\n",
    " \n",
    "# walk-forward validation on the test data\n",
    "predictions = list()\n",
    "for i in range(len(test_scaled)):\n",
    " # make one-step forecast\n",
    " X, y = test_scaled[i, 0:-1], test_scaled[i, -1]\n",
    " yhat = forecast_lstm(lstm_model, 1, X)\n",
    " # invert scaling\n",
    " yhat = invert_scale(scaler, X, yhat)\n",
    " # invert differencing\n",
    " yhat = inverse_difference(dataset, yhat, len(test_scaled)+1-i)\n",
    " # store forecast\n",
    " predictions.append(yhat)\n",
    " expected = dataset[len(train) + i + 1]\n",
    " print('Month=%d, Predicted=%f, Expected=%f' % (i+1, yhat, expected))\n",
    " \n",
    "# report performance\n",
    "rmse = sqrt(mean_squared_error(dataset[-12:], predictions))\n",
    "print('Test RMSE: %.3f' % rmse)\n",
    "# line plot of observed vs predicted\n",
    "pyplot.plot(dataframe[-12:])\n",
    "pyplot.plot(predictions)\n",
    "pyplot.show()\n"
   ]
  },
  {
   "cell_type": "code",
   "execution_count": null,
   "metadata": {},
   "outputs": [],
   "source": []
  }
 ],
 "metadata": {
  "kernelspec": {
   "display_name": "fastapi",
   "language": "python",
   "name": "python3"
  },
  "language_info": {
   "codemirror_mode": {
    "name": "ipython",
    "version": 3
   },
   "file_extension": ".py",
   "mimetype": "text/x-python",
   "name": "python",
   "nbconvert_exporter": "python",
   "pygments_lexer": "ipython3",
   "version": "3.7.6"
  }
 },
 "nbformat": 4,
 "nbformat_minor": 2
}
