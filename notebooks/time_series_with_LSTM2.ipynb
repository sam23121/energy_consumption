{
 "cells": [
  {
   "cell_type": "code",
   "execution_count": 1,
   "metadata": {},
   "outputs": [
    {
     "name": "stderr",
     "output_type": "stream",
     "text": [
      "/home/sam/anaconda3/lib/python3.7/site-packages/ipykernel_launcher.py:5: FutureWarning: The pandas.datetime class is deprecated and will be removed from pandas in a future version. Import from datetime module instead.\n",
      "  \"\"\"\n",
      "/home/sam/anaconda3/lib/python3.7/importlib/_bootstrap.py:219: RuntimeWarning: numpy.ufunc size changed, may indicate binary incompatibility. Expected 192 from C header, got 216 from PyObject\n",
      "  return f(*args, **kwds)\n",
      "/home/sam/anaconda3/lib/python3.7/importlib/_bootstrap.py:219: RuntimeWarning: numpy.ufunc size changed, may indicate binary incompatibility. Expected 192 from C header, got 216 from PyObject\n",
      "  return f(*args, **kwds)\n",
      "/home/sam/anaconda3/lib/python3.7/importlib/_bootstrap.py:219: RuntimeWarning: numpy.ufunc size changed, may indicate binary incompatibility. Expected 192 from C header, got 216 from PyObject\n",
      "  return f(*args, **kwds)\n",
      "/home/sam/anaconda3/lib/python3.7/importlib/_bootstrap.py:219: RuntimeWarning: numpy.ndarray size changed, may indicate binary incompatibility. Expected 80 from C header, got 88 from PyObject\n",
      "  return f(*args, **kwds)\n"
     ]
    }
   ],
   "source": [
    "from pandas import DataFrame\n",
    "from pandas import Series\n",
    "from pandas import concat\n",
    "from pandas import read_csv\n",
    "from pandas import datetime\n",
    "from sklearn.metrics import mean_squared_error, mean_absolute_error\n",
    "from sklearn.preprocessing import MinMaxScaler\n",
    "from keras.models import Sequential\n",
    "from keras.layers import Dense\n",
    "from keras.layers import LSTM\n",
    "from math import sqrt\n",
    "from matplotlib import pyplot\n",
    "import numpy\n"
   ]
  },
  {
   "cell_type": "code",
   "execution_count": 2,
   "metadata": {},
   "outputs": [],
   "source": [
    "series = read_csv('/home/sam/Documents/projects/practice/tme_series/data/clustring 0 average .csv', usecols=[1], engine='python')\n",
    "# transform data to be stationary\n",
    "raw_values = series.values"
   ]
  },
  {
   "cell_type": "code",
   "execution_count": 3,
   "metadata": {},
   "outputs": [],
   "source": [
    "series2 = read_csv('/home/sam/Documents/projects/practice/tme_series/data/clustring 1 average .csv', usecols=[1], engine='python')\n",
    "# transform data to be stationary\n",
    "raw_values2 = series2.values"
   ]
  },
  {
   "cell_type": "code",
   "execution_count": 4,
   "metadata": {},
   "outputs": [],
   "source": [
    "series3 = read_csv('/home/sam/Documents/projects/practice/tme_series/data/clustring 2 average.csv', usecols=[1], engine='python')\n",
    "# transform data to be stationary\n",
    "raw_values3 = series3.values"
   ]
  },
  {
   "cell_type": "code",
   "execution_count": 5,
   "metadata": {},
   "outputs": [],
   "source": [
    "def timeseries_to_supervised(data, lag=1):\n",
    "\tdf = DataFrame(data)\n",
    "\tcolumns = [df.shift(i) for i in range(1, lag+1)]\n",
    "\tcolumns.append(df)\n",
    "\tdf = concat(columns, axis=1)\n",
    "\tdf.fillna(0, inplace=True)\n",
    "\treturn df"
   ]
  },
  {
   "cell_type": "code",
   "execution_count": 6,
   "metadata": {},
   "outputs": [],
   "source": [
    "# create a differenced series\n",
    "def difference(dataset, interval=1):\n",
    "\tdiff = list()\n",
    "\tfor i in range(interval, len(dataset)):\n",
    "\t\tvalue = dataset[i] - dataset[i - interval]\n",
    "\t\tdiff.append(value)\n",
    "\treturn Series(diff)\n",
    "\n",
    "# invert differenced value\n",
    "def inverse_difference(history, yhat, interval=1):\n",
    "\treturn yhat + history[-interval]\n",
    "\n",
    "# scale train and test data to [-1, 1]\n",
    "def scale(train, test):\n",
    "\t# fit scaler\n",
    "\tscaler = MinMaxScaler(feature_range=(-1, 1))\n",
    "\tscaler = scaler.fit(train)\n",
    "\t# transform train\n",
    "\ttrain = train.reshape(train.shape[0], train.shape[1])\n",
    "\ttrain_scaled = scaler.transform(train)\n",
    "\t# transform test\n",
    "\ttest = test.reshape(test.shape[0], test.shape[1])\n",
    "\ttest_scaled = scaler.transform(test)\n",
    "\treturn scaler, train_scaled, test_scaled\n",
    "\n",
    "# inverse scaling for a forecasted value\n",
    "def invert_scale(scaler, X, value):\n",
    "\tnew_row = [x for x in X] + [value]\n",
    "\tarray = numpy.array(new_row)\n",
    "\tarray = array.reshape(1, len(array))\n",
    "\tinverted = scaler.inverse_transform(array)\n",
    "\treturn inverted[0, -1]"
   ]
  },
  {
   "cell_type": "code",
   "execution_count": 11,
   "metadata": {},
   "outputs": [],
   "source": [
    "\n",
    "\n",
    "# fit an LSTM network to training data\n",
    "def fit_lstm(train, batch_size, nb_epoch, neurons):\n",
    "\tX, y = train[:, 0:-1], train[:, -1]\n",
    "\tX = X.reshape(X.shape[0], 1, X.shape[1])\n",
    "\tmodel = Sequential()\n",
    "\tmodel.add(LSTM(neurons, batch_input_shape=(batch_size, X.shape[1], X.shape[2]), stateful=True))\n",
    "\tmodel.add(Dense(1))\n",
    "\tmodel.compile(loss='mean_squared_error', optimizer='adam')\n",
    "\n",
    "\thistory = {'loss': []}\n",
    "    \n",
    "\tfor i in range(nb_epoch):\n",
    "\t\thist = model.fit(X, y, epochs=1, batch_size=batch_size, verbose=0, shuffle=False)\n",
    "\t\thistory['loss'].append(hist.history['loss'][0])\n",
    "\t\tmodel.reset_states()\n",
    "    \n",
    "\treturn model, history\n",
    "\t# for i in range(nb_epoch):\n",
    "\t# \tmodel.fit(X, y, epochs=1, batch_size=batch_size, verbose=0, shuffle=False)\n",
    "\t# \tmodel.reset_states()\n",
    "\t# return model\n",
    "\n",
    "# make a one-step forecast\n",
    "def forecast_lstm(model, batch_size, X):\n",
    "\tX = X.reshape(1, 1, len(X))\n",
    "\tyhat = model.predict(X, batch_size=batch_size)\n",
    "\treturn yhat[0,0]"
   ]
  },
  {
   "cell_type": "markdown",
   "metadata": {},
   "source": [
    "### For Cluster 0"
   ]
  },
  {
   "cell_type": "code",
   "execution_count": 12,
   "metadata": {},
   "outputs": [
    {
     "name": "stdout",
     "output_type": "stream",
     "text": [
      "44/44 [==============================] - 0s 1ms/step\n"
     ]
    },
    {
     "data": {
      "text/plain": [
       "array([[-0.19459732],\n",
       "       [-0.28677398],\n",
       "       [ 0.31250343],\n",
       "       [-0.41901034],\n",
       "       [ 0.04645319],\n",
       "       [-0.21944976],\n",
       "       [-0.15976007],\n",
       "       [-0.1985585 ],\n",
       "       [-0.8307686 ],\n",
       "       [-0.13487902],\n",
       "       [ 0.33628258],\n",
       "       [-0.0414276 ],\n",
       "       [-0.00249606],\n",
       "       [ 0.1955668 ],\n",
       "       [-0.20595604],\n",
       "       [-0.41297355],\n",
       "       [-0.56842315],\n",
       "       [-0.1734277 ],\n",
       "       [ 0.47602546],\n",
       "       [-0.17516628],\n",
       "       [-0.10746947],\n",
       "       [ 0.3054989 ],\n",
       "       [-0.35254812],\n",
       "       [-0.08393965],\n",
       "       [-0.01330782],\n",
       "       [ 0.2922975 ],\n",
       "       [-0.37092063],\n",
       "       [-0.6769692 ],\n",
       "       [ 0.17622665],\n",
       "       [-0.6694508 ],\n",
       "       [-0.31858015],\n",
       "       [ 0.04623528],\n",
       "       [-0.46557906],\n",
       "       [-0.35823232],\n",
       "       [-0.4761993 ],\n",
       "       [-0.43277627],\n",
       "       [ 0.17240226],\n",
       "       [-0.56965774],\n",
       "       [-0.27426875],\n",
       "       [-0.7511969 ],\n",
       "       [-0.06842944],\n",
       "       [ 0.10956851],\n",
       "       [-0.5225115 ],\n",
       "       [-0.59631777]], dtype=float32)"
      ]
     },
     "execution_count": 12,
     "metadata": {},
     "output_type": "execute_result"
    }
   ],
   "source": [
    "diff_values = difference(raw_values, 1)\n",
    "\n",
    "# transform data to be supervised learning\n",
    "supervised = timeseries_to_supervised(diff_values, 1)\n",
    "supervised_values = supervised.values\n",
    "\n",
    "# split data into train and test-sets\n",
    "train, test = supervised_values[0:-3], supervised_values[-3:]\n",
    "\n",
    "# transform the scale of the data\n",
    "scaler, train_scaled, test_scaled = scale(train, test)\n",
    "\n",
    "# fit the model\n",
    "lstm_model, history = fit_lstm(train_scaled, 1, 100, 1)\n",
    "# forecast the entire training dataset to build up state for forecasting\n",
    "train_reshaped = train_scaled[:, 0].reshape(len(train_scaled), 1, 1)\n",
    "lstm_model.predict(train_reshaped, batch_size=1)\n"
   ]
  },
  {
   "cell_type": "code",
   "execution_count": 14,
   "metadata": {},
   "outputs": [
    {
     "data": {
      "text/plain": [
       "<matplotlib.legend.Legend at 0x7fd178179390>"
      ]
     },
     "execution_count": 14,
     "metadata": {},
     "output_type": "execute_result"
    },
    {
     "data": {
      "image/png": "[encoded data removed]",
      "text/plain": [
       "<Figure size 1008x360 with 1 Axes>"
      ]
     },
     "metadata": {
      "needs_background": "light"
     },
     "output_type": "display_data"
    }
   ],
   "source": [
    "pyplot.figure(figsize=(14, 5))\n",
    "\n",
    "pyplot.subplot(1, 2, 1)\n",
    "pyplot.plot(history['loss'], label='Train Loss')\n",
    "# pyplot.plot(history.history['val_loss'], label='Validation Loss')\n",
    "pyplot.title('Model Loss')\n",
    "pyplot.xlabel('Epoch')\n",
    "pyplot.ylabel('Loss')\n",
    "pyplot.legend(loc='upper right')"
   ]
  },
  {
   "cell_type": "code",
   "execution_count": 9,
   "metadata": {},
   "outputs": [
    {
     "name": "stdout",
     "output_type": "stream",
     "text": [
      "1/1 [==============================] - 0s 15ms/step\n",
      "Month=1, Predicted=1371.234078, Expected=1381.566106\n",
      "1/1 [==============================] - 0s 13ms/step\n",
      "Month=2, Predicted=1375.924197, Expected=1374.486594\n",
      "1/1 [==============================] - 0s 11ms/step\n",
      "Month=3, Predicted=1373.794536, Expected=1378.116427\n"
     ]
    }
   ],
   "source": [
    "# walk-forward validation on the test data\n",
    "predictions = list()\n",
    "for i in range(len(test_scaled)):\n",
    "\t# make one-step forecast\n",
    "\tX, y = test_scaled[i, 0:-1], test_scaled[i, -1]\n",
    "\tyhat = forecast_lstm(lstm_model, 1, X)\n",
    "\t# invert scaling\n",
    "\tyhat = invert_scale(scaler, X, yhat)\n",
    "\t# invert differencing\n",
    "\tyhat = inverse_difference(raw_values, yhat, len(test_scaled)+1-i)\n",
    "\t# store forecast\n",
    "\tpredictions.append(yhat)\n",
    "\texpected = raw_values[len(train) + i + 1]\n",
    "\tprint('Month=%d, Predicted=%f, Expected=%f' % (i+1, yhat, expected))"
   ]
  },
  {
   "cell_type": "code",
   "execution_count": 10,
   "metadata": {},
   "outputs": [
    {
     "name": "stdout",
     "output_type": "stream",
     "text": [
      "Test RMSE: 6.519\n"
     ]
    },
    {
     "data": {
      "image/png": "[encoded data removed]",
      "text/plain": [
       "<Figure size 432x288 with 1 Axes>"
      ]
     },
     "metadata": {
      "needs_background": "light"
     },
     "output_type": "display_data"
    }
   ],
   "source": [
    "# report performance\n",
    "rmse = sqrt(mean_squared_error(raw_values[-3:], predictions))\n",
    "print('Test RMSE: %.3f' % rmse)\n",
    "\n",
    "mae = mean_absolute_error(raw_values[-3:], predictions)\n",
    "print('Test MAE: %.3f' % mae)\n",
    "# line plot of observed vs predicted\n",
    "pyplot.plot(raw_values[-3:])\n",
    "pyplot.plot(predictions)\n",
    "pyplot.show()"
   ]
  },
  {
   "cell_type": "code",
   "execution_count": null,
   "metadata": {},
   "outputs": [],
   "source": []
  },
  {
   "cell_type": "markdown",
   "metadata": {},
   "source": [
    "### For Cluster 1"
   ]
  },
  {
   "cell_type": "code",
   "execution_count": 13,
   "metadata": {},
   "outputs": [
    {
     "name": "stdout",
     "output_type": "stream",
     "text": [
      "44/44 [==============================] - 0s 940us/step\n"
     ]
    },
    {
     "data": {
      "text/plain": [
       "array([[-0.18593436],\n",
       "       [-0.4538347 ],\n",
       "       [ 0.01349358],\n",
       "       [ 0.17337568],\n",
       "       [-0.30873087],\n",
       "       [ 0.01991861],\n",
       "       [-0.31131735],\n",
       "       [ 0.19337116],\n",
       "       [-0.09058732],\n",
       "       [-0.06445093],\n",
       "       [ 0.26223546],\n",
       "       [ 0.2903731 ],\n",
       "       [-0.14909385],\n",
       "       [ 0.10289362],\n",
       "       [ 0.44569004],\n",
       "       [ 0.09217104],\n",
       "       [ 0.25578582],\n",
       "       [ 0.11195408],\n",
       "       [ 0.18935405],\n",
       "       [ 0.20296727],\n",
       "       [ 0.21598656],\n",
       "       [-0.24932535],\n",
       "       [-0.28710514],\n",
       "       [-0.08739151],\n",
       "       [-0.15239108],\n",
       "       [ 0.2530964 ],\n",
       "       [ 0.30284697],\n",
       "       [-0.0531031 ],\n",
       "       [-0.15321876],\n",
       "       [ 0.28358895],\n",
       "       [ 0.7397135 ],\n",
       "       [-0.01562321],\n",
       "       [ 0.19886695],\n",
       "       [-0.10337614],\n",
       "       [ 0.01360467],\n",
       "       [-0.268562  ],\n",
       "       [-0.3795053 ],\n",
       "       [ 0.5874769 ],\n",
       "       [ 0.02668594],\n",
       "       [-0.17509665],\n",
       "       [ 0.43456024],\n",
       "       [ 0.0757473 ],\n",
       "       [-0.14302208],\n",
       "       [ 0.33470994]], dtype=float32)"
      ]
     },
     "execution_count": 13,
     "metadata": {},
     "output_type": "execute_result"
    }
   ],
   "source": [
    "diff_values2 = difference(raw_values2, 1)\n",
    "\n",
    "# transform data to be supervised learning\n",
    "supervised = timeseries_to_supervised(diff_values2, 1)\n",
    "supervised_values = supervised.values\n",
    "\n",
    "# split data into train and test-sets\n",
    "train, test = supervised_values[0:-3], supervised_values[-3:]\n",
    "\n",
    "# transform the scale of the data\n",
    "scaler, train_scaled, test_scaled = scale(train, test)\n",
    "\n",
    "# fit the model\n",
    "lstm_model = fit_lstm(train_scaled, 1, 1500, 1)\n",
    "# forecast the entire training dataset to build up state for forecasting\n",
    "train_reshaped = train_scaled[:, 0].reshape(len(train_scaled), 1, 1)\n",
    "lstm_model.predict(train_reshaped, batch_size=1)\n"
   ]
  },
  {
   "cell_type": "code",
   "execution_count": 14,
   "metadata": {},
   "outputs": [
    {
     "name": "stdout",
     "output_type": "stream",
     "text": [
      "1/1 [==============================] - 0s 11ms/step\n",
      "Month=1, Predicted=275.788499, Expected=275.539862\n",
      "1/1 [==============================] - 0s 12ms/step\n",
      "Month=2, Predicted=275.741124, Expected=274.678387\n",
      "1/1 [==============================] - 0s 11ms/step\n",
      "Month=3, Predicted=275.676638, Expected=275.965119\n"
     ]
    }
   ],
   "source": [
    "# walk-forward validation on the test data\n",
    "predictions = list()\n",
    "for i in range(len(test_scaled)):\n",
    "\t# make one-step forecast\n",
    "\tX, y = test_scaled[i, 0:-1], test_scaled[i, -1]\n",
    "\tyhat = forecast_lstm(lstm_model, 1, X)\n",
    "\t# invert scaling\n",
    "\tyhat = invert_scale(scaler, X, yhat)\n",
    "\t# invert differencing\n",
    "\tyhat = inverse_difference(raw_values2, yhat, len(test_scaled)+1-i)\n",
    "\t# store forecast\n",
    "\tpredictions.append(yhat)\n",
    "\texpected = raw_values2[len(train) + i + 1]\n",
    "\tprint('Month=%d, Predicted=%f, Expected=%f' % (i+1, yhat, expected))"
   ]
  },
  {
   "cell_type": "code",
   "execution_count": 15,
   "metadata": {},
   "outputs": [
    {
     "name": "stdout",
     "output_type": "stream",
     "text": [
      "Test RMSE: 0.652\n"
     ]
    },
    {
     "data": {
      "image/png": "[encoded data removed]",
      "text/plain": [
       "<Figure size 640x480 with 1 Axes>"
      ]
     },
     "metadata": {},
     "output_type": "display_data"
    }
   ],
   "source": [
    "# report performance\n",
    "rmse = sqrt(mean_squared_error(raw_values2[-3:], predictions))\n",
    "print('Test RMSE: %.3f' % rmse)\n",
    "\n",
    "mae = mean_absolute_error(raw_values[-3:], predictions)\n",
    "print('Test MAE: %.3f' % mae)\n",
    "# line plot of observed vs predicted\n",
    "pyplot.plot(raw_values2[-3:])\n",
    "pyplot.plot(predictions)\n",
    "pyplot.show()"
   ]
  },
  {
   "cell_type": "code",
   "execution_count": null,
   "metadata": {},
   "outputs": [],
   "source": []
  },
  {
   "cell_type": "markdown",
   "metadata": {},
   "source": [
    "### For Cluster 2"
   ]
  },
  {
   "cell_type": "code",
   "execution_count": 16,
   "metadata": {},
   "outputs": [
    {
     "name": "stdout",
     "output_type": "stream",
     "text": [
      "44/44 [==============================] - 0s 852us/step\n"
     ]
    },
    {
     "data": {
      "text/plain": [
       "array([[-0.13639782],\n",
       "       [-0.17532466],\n",
       "       [-0.01307125],\n",
       "       [-0.24303083],\n",
       "       [-0.40798682],\n",
       "       [-0.380022  ],\n",
       "       [ 0.10035902],\n",
       "       [-0.30672926],\n",
       "       [ 0.10902463],\n",
       "       [ 0.23231444],\n",
       "       [ 0.0539327 ],\n",
       "       [-0.3016271 ],\n",
       "       [-0.46090394],\n",
       "       [-0.17329921],\n",
       "       [-0.3414402 ],\n",
       "       [-0.20142429],\n",
       "       [ 0.3458513 ],\n",
       "       [-0.07297826],\n",
       "       [-0.26895136],\n",
       "       [ 0.32031655],\n",
       "       [-0.11042106],\n",
       "       [ 0.28940463],\n",
       "       [-0.16755609],\n",
       "       [ 0.39354652],\n",
       "       [ 0.00830705],\n",
       "       [ 0.14595805],\n",
       "       [-0.09604484],\n",
       "       [-0.23985605],\n",
       "       [-0.41382265],\n",
       "       [-0.34823215],\n",
       "       [-0.34554577],\n",
       "       [ 0.38433772],\n",
       "       [-0.02979107],\n",
       "       [-0.36745512],\n",
       "       [-0.32131672],\n",
       "       [-0.32881242],\n",
       "       [-0.0994366 ],\n",
       "       [-0.33294827],\n",
       "       [ 0.00091771],\n",
       "       [-0.15485777],\n",
       "       [ 0.19414386],\n",
       "       [-0.1933919 ],\n",
       "       [-0.40470815],\n",
       "       [-0.20974241]], dtype=float32)"
      ]
     },
     "execution_count": 16,
     "metadata": {},
     "output_type": "execute_result"
    }
   ],
   "source": [
    "diff_values3 = difference(raw_values3, 1)\n",
    "\n",
    "# transform data to be supervised learning\n",
    "supervised = timeseries_to_supervised(diff_values3, 1)\n",
    "supervised_values = supervised.values\n",
    "\n",
    "# split data into train and test-sets\n",
    "train, test = supervised_values[0:-3], supervised_values[-3:]\n",
    "\n",
    "# transform the scale of the data\n",
    "scaler, train_scaled, test_scaled = scale(train, test)\n",
    "\n",
    "# fit the model\n",
    "lstm_model = fit_lstm(train_scaled, 1, 1500, 1)\n",
    "# forecast the entire training dataset to build up state for forecasting\n",
    "train_reshaped = train_scaled[:, 0].reshape(len(train_scaled), 1, 1)\n",
    "lstm_model.predict(train_reshaped, batch_size=1)\n"
   ]
  },
  {
   "cell_type": "code",
   "execution_count": 17,
   "metadata": {},
   "outputs": [
    {
     "name": "stdout",
     "output_type": "stream",
     "text": [
      "1/1 [==============================] - 0s 17ms/step\n",
      "Month=1, Predicted=2992.313039, Expected=3001.920000\n",
      "1/1 [==============================] - 0s 14ms/step\n",
      "Month=2, Predicted=2995.560401, Expected=3009.820800\n",
      "1/1 [==============================] - 0s 13ms/step\n",
      "Month=3, Predicted=3000.089606, Expected=2997.898600\n"
     ]
    }
   ],
   "source": [
    "# walk-forward validation on the test data\n",
    "predictions = list()\n",
    "for i in range(len(test_scaled)):\n",
    "\t# make one-step forecast\n",
    "\tX, y = test_scaled[i, 0:-1], test_scaled[i, -1]\n",
    "\tyhat = forecast_lstm(lstm_model, 1, X)\n",
    "\t# invert scaling\n",
    "\tyhat = invert_scale(scaler, X, yhat)\n",
    "\t# invert differencing\n",
    "\tyhat = inverse_difference(raw_values3, yhat, len(test_scaled)+1-i)\n",
    "\t# store forecast\n",
    "\tpredictions.append(yhat)\n",
    "\texpected = raw_values3[len(train) + i + 1]\n",
    "\tprint('Month=%d, Predicted=%f, Expected=%f' % (i+1, yhat, expected))"
   ]
  },
  {
   "cell_type": "code",
   "execution_count": 18,
   "metadata": {},
   "outputs": [
    {
     "name": "stdout",
     "output_type": "stream",
     "text": [
      "Test RMSE: 10.008\n"
     ]
    },
    {
     "data": {
      "image/png": "[encoded data removed]",
      "text/plain": [
       "<Figure size 640x480 with 1 Axes>"
      ]
     },
     "metadata": {},
     "output_type": "display_data"
    }
   ],
   "source": [
    "# report performance\n",
    "rmse = sqrt(mean_squared_error(raw_values3[-3:], predictions))\n",
    "print('Test RMSE: %.3f' % rmse)\n",
    "\n",
    "mae = mean_absolute_error(raw_values[-3:], predictions)\n",
    "print('Test MAE: %.3f' % mae)\n",
    "# line plot of observed vs predicted\n",
    "pyplot.plot(raw_values3[-3:])\n",
    "pyplot.plot(predictions)\n",
    "pyplot.show()"
   ]
  },
  {
   "cell_type": "code",
   "execution_count": null,
   "metadata": {},
   "outputs": [],
   "source": []
  }
 ],
 "metadata": {
  "kernelspec": {
   "display_name": "fastapi",
   "language": "python",
   "name": "python3"
  },
  "language_info": {
   "codemirror_mode": {
    "name": "ipython",
    "version": 3
   },
   "file_extension": ".py",
   "mimetype": "text/x-python",
   "name": "python",
   "nbconvert_exporter": "python",
   "pygments_lexer": "ipython3",
   "version": "3.7.6"
  }
 },
 "nbformat": 4,
 "nbformat_minor": 2
}
