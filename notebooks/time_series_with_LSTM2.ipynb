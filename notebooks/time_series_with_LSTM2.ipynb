{
 "cells": [
  {
   "cell_type": "code",
   "execution_count": 1,
   "metadata": {},
   "outputs": [
    {
     "name": "stderr",
     "output_type": "stream",
     "text": [
      "/home/sam/anaconda3/lib/python3.7/site-packages/ipykernel_launcher.py:5: FutureWarning: The pandas.datetime class is deprecated and will be removed from pandas in a future version. Import from datetime module instead.\n",
      "  \"\"\"\n"
     ]
    }
   ],
   "source": [
    "from pandas import DataFrame\n",
    "from pandas import Series\n",
    "from pandas import concat\n",
    "from pandas import read_csv\n",
    "from pandas import datetime\n",
    "from sklearn.metrics import mean_squared_error, mean_absolute_error\n",
    "from sklearn.preprocessing import MinMaxScaler\n",
    "from keras.models import Sequential\n",
    "from keras.layers import Dense\n",
    "from keras.layers import LSTM\n",
    "from math import sqrt\n",
    "from matplotlib import pyplot\n",
    "import numpy\n"
   ]
  },
  {
   "cell_type": "code",
   "execution_count": 2,
   "metadata": {},
   "outputs": [],
   "source": [
    "series = read_csv('/home/sam/Documents/projects/practice/tme_series/data/clustring 0 average .csv', usecols=[1], engine='python')\n",
    "# transform data to be stationary\n",
    "raw_values = series.values"
   ]
  },
  {
   "cell_type": "code",
   "execution_count": 3,
   "metadata": {},
   "outputs": [],
   "source": [
    "series2 = read_csv('/home/sam/Documents/projects/practice/tme_series/data/clustring 1 average .csv', usecols=[1], engine='python')\n",
    "# transform data to be stationary\n",
    "raw_values2 = series2.values"
   ]
  },
  {
   "cell_type": "code",
   "execution_count": 4,
   "metadata": {},
   "outputs": [],
   "source": [
    "series3 = read_csv('/home/sam/Documents/projects/practice/tme_series/data/clustring 2 average.csv', usecols=[1], engine='python')\n",
    "# transform data to be stationary\n",
    "raw_values3 = series3.values"
   ]
  },
  {
   "cell_type": "code",
   "execution_count": 5,
   "metadata": {},
   "outputs": [],
   "source": [
    "def timeseries_to_supervised(data, lag=1):\n",
    "\tdf = DataFrame(data)\n",
    "\tcolumns = [df.shift(i) for i in range(1, lag+1)]\n",
    "\tcolumns.append(df)\n",
    "\tdf = concat(columns, axis=1)\n",
    "\tdf.fillna(0, inplace=True)\n",
    "\treturn df"
   ]
  },
  {
   "cell_type": "code",
   "execution_count": 6,
   "metadata": {},
   "outputs": [],
   "source": [
    "# create a differenced series\n",
    "def difference(dataset, interval=1):\n",
    "\tdiff = list()\n",
    "\tfor i in range(interval, len(dataset)):\n",
    "\t\tvalue = dataset[i] - dataset[i - interval]\n",
    "\t\tdiff.append(value)\n",
    "\treturn Series(diff)\n",
    "\n",
    "# invert differenced value\n",
    "def inverse_difference(history, yhat, interval=1):\n",
    "\treturn yhat + history[-interval]\n",
    "\n",
    "# scale train and test data to [-1, 1]\n",
    "def scale(train, test):\n",
    "\t# fit scaler\n",
    "\tscaler = MinMaxScaler(feature_range=(-1, 1))\n",
    "\tscaler = scaler.fit(train)\n",
    "\t# transform train\n",
    "\ttrain = train.reshape(train.shape[0], train.shape[1])\n",
    "\ttrain_scaled = scaler.transform(train)\n",
    "\t# transform test\n",
    "\ttest = test.reshape(test.shape[0], test.shape[1])\n",
    "\ttest_scaled = scaler.transform(test)\n",
    "\treturn scaler, train_scaled, test_scaled\n",
    "\n",
    "# inverse scaling for a forecasted value\n",
    "def invert_scale(scaler, X, value):\n",
    "\tnew_row = [x for x in X] + [value]\n",
    "\tarray = numpy.array(new_row)\n",
    "\tarray = array.reshape(1, len(array))\n",
    "\tinverted = scaler.inverse_transform(array)\n",
    "\treturn inverted[0, -1]"
   ]
  },
  {
   "cell_type": "code",
   "execution_count": 7,
   "metadata": {},
   "outputs": [],
   "source": [
    "\n",
    "\n",
    "# fit an LSTM network to training data\n",
    "def fit_lstm(train, batch_size, nb_epoch, neurons):\n",
    "\tX, y = train[:, 0:-1], train[:, -1]\n",
    "\tX = X.reshape(X.shape[0], 1, X.shape[1])\n",
    "\tmodel = Sequential()\n",
    "\tmodel.add(LSTM(neurons, batch_input_shape=(batch_size, X.shape[1], X.shape[2]), stateful=True))\n",
    "\tmodel.add(Dense(1))\n",
    "\tmodel.compile(loss='mean_squared_error', optimizer='adam')\n",
    "\n",
    "\thistory = {'loss': []}\n",
    "    \n",
    "\tfor i in range(nb_epoch):\n",
    "\t\thist = model.fit(X, y, epochs=1, batch_size=batch_size, verbose=0, shuffle=False)\n",
    "\t\thistory['loss'].append(hist.history['loss'][0])\n",
    "\t\tmodel.reset_states()\n",
    "    \n",
    "\treturn model, history\n",
    "\t# for i in range(nb_epoch):\n",
    "\t# \tmodel.fit(X, y, epochs=1, batch_size=batch_size, verbose=0, shuffle=False)\n",
    "\t# \tmodel.reset_states()\n",
    "\t# return model\n",
    "\n",
    "# make a one-step forecast\n",
    "def forecast_lstm(model, batch_size, X):\n",
    "\tX = X.reshape(1, 1, len(X))\n",
    "\tyhat = model.predict(X, batch_size=batch_size)\n",
    "\treturn yhat[0,0]"
   ]
  },
  {
   "cell_type": "markdown",
   "metadata": {},
   "source": [
    "### For Cluster 0"
   ]
  },
  {
   "cell_type": "code",
   "execution_count": 8,
   "metadata": {},
   "outputs": [
    {
     "name": "stdout",
     "output_type": "stream",
     "text": [
      "44/44 [==============================] - 0s 2ms/step\n"
     ]
    },
    {
     "data": {
      "text/plain": [
       "array([[-0.10257605],\n",
       "       [-0.17618485],\n",
       "       [ 0.18189003],\n",
       "       [-0.32871968],\n",
       "       [ 0.03337706],\n",
       "       [-0.14943357],\n",
       "       [-0.10655507],\n",
       "       [-0.13903153],\n",
       "       [-0.65166587],\n",
       "       [-0.06267355],\n",
       "       [ 0.19885305],\n",
       "       [-0.01627395],\n",
       "       [ 0.00740219],\n",
       "       [ 0.13034739],\n",
       "       [-0.14349182],\n",
       "       [-0.31087473],\n",
       "       [-0.44854003],\n",
       "       [-0.15217021],\n",
       "       [ 0.21789226],\n",
       "       [-0.19328983],\n",
       "       [-0.14198738],\n",
       "       [ 0.13291557],\n",
       "       [-0.342169  ],\n",
       "       [-0.12251864],\n",
       "       [-0.06973978],\n",
       "       [ 0.13241467],\n",
       "       [-0.354153  ],\n",
       "       [-0.58222055],\n",
       "       [ 0.06189708],\n",
       "       [-0.5873779 ],\n",
       "       [-0.24709353],\n",
       "       [ 0.00614377],\n",
       "       [-0.3877071 ],\n",
       "       [-0.30018634],\n",
       "       [-0.41742414],\n",
       "       [-0.40580824],\n",
       "       [ 0.03545595],\n",
       "       [-0.5279912 ],\n",
       "       [-0.26458746],\n",
       "       [-0.6493359 ],\n",
       "       [-0.09716298],\n",
       "       [ 0.03281376],\n",
       "       [-0.45856354],\n",
       "       [-0.50392497]], dtype=float32)"
      ]
     },
     "execution_count": 8,
     "metadata": {},
     "output_type": "execute_result"
    }
   ],
   "source": [
    "diff_values = difference(raw_values, 1)\n",
    "\n",
    "# transform data to be supervised learning\n",
    "supervised = timeseries_to_supervised(diff_values, 1)\n",
    "supervised_values = supervised.values\n",
    "\n",
    "# split data into train and test-sets\n",
    "train, test = supervised_values[0:-3], supervised_values[-3:]\n",
    "\n",
    "# transform the scale of the data\n",
    "scaler, train_scaled, test_scaled = scale(train, test)\n",
    "\n",
    "# fit the model\n",
    "lstm_model, history = fit_lstm(train_scaled, 1, 100, 1)\n",
    "# forecast the entire training dataset to build up state for forecasting\n",
    "train_reshaped = train_scaled[:, 0].reshape(len(train_scaled), 1, 1)\n",
    "lstm_model.predict(train_reshaped, batch_size=1)\n"
   ]
  },
  {
   "cell_type": "code",
   "execution_count": 14,
   "metadata": {},
   "outputs": [
    {
     "data": {
      "text/plain": [
       "<matplotlib.legend.Legend at 0x7fd178179390>"
      ]
     },
     "execution_count": 14,
     "metadata": {},
     "output_type": "execute_result"
    },
    {
     "data": {
      "image/png": "[encoded data removed]",
      "text/plain": [
       "<Figure size 1008x360 with 1 Axes>"
      ]
     },
     "metadata": {
      "needs_background": "light"
     },
     "output_type": "display_data"
    }
   ],
   "source": [
    "pyplot.figure(figsize=(14, 5))\n",
    "\n",
    "pyplot.subplot(1, 2, 1)\n",
    "pyplot.plot(history['loss'], label='Train Loss')\n",
    "# pyplot.plot(history.history['val_loss'], label='Validation Loss')\n",
    "pyplot.title('Model Loss')\n",
    "pyplot.xlabel('Epoch')\n",
    "pyplot.ylabel('Loss')\n",
    "pyplot.legend(loc='upper right')"
   ]
  },
  {
   "cell_type": "code",
   "execution_count": 9,
   "metadata": {},
   "outputs": [
    {
     "name": "stdout",
     "output_type": "stream",
     "text": [
      "1/1 [==============================] - 0s 23ms/step\n",
      "Month=1, Predicted=1372.149490, Expected=1381.566106\n",
      "1/1 [==============================] - 0s 17ms/step\n",
      "Month=2, Predicted=1376.251877, Expected=1374.486594\n",
      "1/1 [==============================] - 0s 15ms/step\n",
      "Month=3, Predicted=1375.230730, Expected=1378.116427\n"
     ]
    }
   ],
   "source": [
    "# walk-forward validation on the test data\n",
    "predictions = list()\n",
    "for i in range(len(test_scaled)):\n",
    "\t# make one-step forecast\n",
    "\tX, y = test_scaled[i, 0:-1], test_scaled[i, -1]\n",
    "\tyhat = forecast_lstm(lstm_model, 1, X)\n",
    "\t# invert scaling\n",
    "\tyhat = invert_scale(scaler, X, yhat)\n",
    "\t# invert differencing\n",
    "\tyhat = inverse_difference(raw_values, yhat, len(test_scaled)+1-i)\n",
    "\t# store forecast\n",
    "\tpredictions.append(yhat)\n",
    "\texpected = raw_values[len(train) + i + 1]\n",
    "\tprint('Month=%d, Predicted=%f, Expected=%f' % (i+1, yhat, expected))"
   ]
  },
  {
   "cell_type": "code",
   "execution_count": 10,
   "metadata": {},
   "outputs": [
    {
     "name": "stdout",
     "output_type": "stream",
     "text": [
      "Test RMSE: 5.777\n",
      "Test MAE: 4.689\n"
     ]
    },
    {
     "data": {
      "image/png": "[encoded data removed]",
      "text/plain": [
       "<Figure size 432x288 with 1 Axes>"
      ]
     },
     "metadata": {
      "needs_background": "light"
     },
     "output_type": "display_data"
    }
   ],
   "source": [
    "# report performance\n",
    "rmse = sqrt(mean_squared_error(raw_values[-3:], predictions))\n",
    "print('Test RMSE: %.3f' % rmse)\n",
    "\n",
    "mae = mean_absolute_error(raw_values[-3:], predictions)\n",
    "print('Test MAE: %.3f' % mae)\n",
    "# line plot of observed vs predicted\n",
    "pyplot.plot(raw_values[-3:])\n",
    "pyplot.plot(predictions)\n",
    "pyplot.show()"
   ]
  },
  {
   "cell_type": "code",
   "execution_count": null,
   "metadata": {},
   "outputs": [],
   "source": []
  },
  {
   "cell_type": "markdown",
   "metadata": {},
   "source": [
    "### For Cluster 1"
   ]
  },
  {
   "cell_type": "code",
   "execution_count": 12,
   "metadata": {},
   "outputs": [
    {
     "name": "stdout",
     "output_type": "stream",
     "text": [
      "44/44 [==============================] - 0s 1ms/step\n"
     ]
    },
    {
     "data": {
      "text/plain": [
       "array([[-0.16977285],\n",
       "       [-0.50797343],\n",
       "       [-0.0677322 ],\n",
       "       [ 0.07324792],\n",
       "       [-0.32150406],\n",
       "       [-0.00247933],\n",
       "       [-0.294748  ],\n",
       "       [ 0.19136727],\n",
       "       [-0.04974447],\n",
       "       [-0.03357324],\n",
       "       [ 0.28473753],\n",
       "       [ 0.30753598],\n",
       "       [-0.09793192],\n",
       "       [ 0.13909304],\n",
       "       [ 0.5052967 ],\n",
       "       [ 0.14299965],\n",
       "       [ 0.2672669 ],\n",
       "       [ 0.1168496 ],\n",
       "       [ 0.16602719],\n",
       "       [ 0.1593121 ],\n",
       "       [ 0.14531446],\n",
       "       [-0.25076953],\n",
       "       [-0.30215573],\n",
       "       [-0.14339373],\n",
       "       [-0.2218873 ],\n",
       "       [ 0.15777776],\n",
       "       [ 0.20081192],\n",
       "       [-0.12277234],\n",
       "       [-0.24169356],\n",
       "       [ 0.17077446],\n",
       "       [ 0.8064991 ],\n",
       "       [-0.04284055],\n",
       "       [ 0.1019146 ],\n",
       "       [-0.16429463],\n",
       "       [-0.08094728],\n",
       "       [-0.33817345],\n",
       "       [-0.49511963],\n",
       "       [ 0.4941724 ],\n",
       "       [-0.00425054],\n",
       "       [-0.21903343],\n",
       "       [ 0.4052018 ],\n",
       "       [ 0.07533264],\n",
       "       [-0.14364904],\n",
       "       [ 0.3299243 ]], dtype=float32)"
      ]
     },
     "execution_count": 12,
     "metadata": {},
     "output_type": "execute_result"
    }
   ],
   "source": [
    "diff_values2 = difference(raw_values2, 1)\n",
    "\n",
    "# transform data to be supervised learning\n",
    "supervised = timeseries_to_supervised(diff_values2, 1)\n",
    "supervised_values = supervised.values\n",
    "\n",
    "# split data into train and test-sets\n",
    "train, test = supervised_values[0:-3], supervised_values[-3:]\n",
    "\n",
    "# transform the scale of the data\n",
    "scaler, train_scaled, test_scaled = scale(train, test)\n",
    "\n",
    "# fit the model\n",
    "lstm_model, history = fit_lstm(train_scaled, 1, 1500, 1)\n",
    "# forecast the entire training dataset to build up state for forecasting\n",
    "train_reshaped = train_scaled[:, 0].reshape(len(train_scaled), 1, 1)\n",
    "lstm_model.predict(train_reshaped, batch_size=1)\n"
   ]
  },
  {
   "cell_type": "code",
   "execution_count": 15,
   "metadata": {},
   "outputs": [
    {
     "name": "stdout",
     "output_type": "stream",
     "text": [
      "1/1 [==============================] - 0s 16ms/step\n"
     ]
    },
    {
     "name": "stdout",
     "output_type": "stream",
     "text": [
      "Month=1, Predicted=276.237069, Expected=275.539862\n",
      "1/1 [==============================] - 0s 16ms/step\n",
      "Month=2, Predicted=276.198715, Expected=274.678387\n",
      "1/1 [==============================] - 0s 19ms/step\n",
      "Month=3, Predicted=276.167787, Expected=275.965119\n"
     ]
    }
   ],
   "source": [
    "# walk-forward validation on the test data\n",
    "predictions = list()\n",
    "for i in range(len(test_scaled)):\n",
    "\t# make one-step forecast\n",
    "\tX, y = test_scaled[i, 0:-1], test_scaled[i, -1]\n",
    "\tyhat = forecast_lstm(lstm_model, 1, X)\n",
    "\t# invert scaling\n",
    "\tyhat = invert_scale(scaler, X, yhat)\n",
    "\t# invert differencing\n",
    "\tyhat = inverse_difference(raw_values2, yhat, len(test_scaled)+1-i)\n",
    "\t# store forecast\n",
    "\tpredictions.append(yhat)\n",
    "\texpected = raw_values2[len(train) + i + 1]\n",
    "\tprint('Month=%d, Predicted=%f, Expected=%f' % (i+1, yhat, expected))"
   ]
  },
  {
   "cell_type": "code",
   "execution_count": 16,
   "metadata": {},
   "outputs": [
    {
     "name": "stdout",
     "output_type": "stream",
     "text": [
      "Test RMSE: 0.973\n",
      "Test MAE: 0.807\n"
     ]
    },
    {
     "data": {
      "image/png": "[encoded data removed]",
      "text/plain": [
       "<Figure size 432x288 with 1 Axes>"
      ]
     },
     "metadata": {
      "needs_background": "light"
     },
     "output_type": "display_data"
    }
   ],
   "source": [
    "# report performance\n",
    "rmse = sqrt(mean_squared_error(raw_values2[-3:], predictions))\n",
    "print('Test RMSE: %.3f' % rmse)\n",
    "\n",
    "mae = mean_absolute_error(raw_values2[-3:], predictions)\n",
    "print('Test MAE: %.3f' % mae)\n",
    "# line plot of observed vs predicted\n",
    "pyplot.plot(raw_values2[-3:])\n",
    "pyplot.plot(predictions)\n",
    "pyplot.show()"
   ]
  },
  {
   "cell_type": "code",
   "execution_count": null,
   "metadata": {},
   "outputs": [],
   "source": []
  },
  {
   "cell_type": "markdown",
   "metadata": {},
   "source": [
    "### For Cluster 2"
   ]
  },
  {
   "cell_type": "code",
   "execution_count": 17,
   "metadata": {},
   "outputs": [
    {
     "name": "stdout",
     "output_type": "stream",
     "text": [
      "44/44 [==============================] - 0s 1ms/step\n"
     ]
    },
    {
     "data": {
      "text/plain": [
       "array([[-0.14990436],\n",
       "       [-0.12084777],\n",
       "       [ 0.04856478],\n",
       "       [-0.15078136],\n",
       "       [-0.4209752 ],\n",
       "       [-0.387115  ],\n",
       "       [ 0.02502166],\n",
       "       [-0.43978778],\n",
       "       [-0.00132288],\n",
       "       [ 0.30838838],\n",
       "       [ 0.28993386],\n",
       "       [-0.16073292],\n",
       "       [-0.48364493],\n",
       "       [-0.18527037],\n",
       "       [-0.41280317],\n",
       "       [-0.22491992],\n",
       "       [ 0.32574603],\n",
       "       [-0.14331649],\n",
       "       [-0.29428396],\n",
       "       [ 0.27018538],\n",
       "       [-0.2169974 ],\n",
       "       [ 0.28756222],\n",
       "       [-0.33789253],\n",
       "       [ 0.4280471 ],\n",
       "       [ 0.03437342],\n",
       "       [ 0.23341872],\n",
       "       [ 0.13915037],\n",
       "       [ 0.02697984],\n",
       "       [-0.31911877],\n",
       "       [-0.28738725],\n",
       "       [-0.34222645],\n",
       "       [ 0.31772867],\n",
       "       [-0.0753138 ],\n",
       "       [-0.47067344],\n",
       "       [-0.38612297],\n",
       "       [-0.3933651 ],\n",
       "       [-0.14464079],\n",
       "       [-0.42519486],\n",
       "       [-0.05790255],\n",
       "       [-0.1207125 ],\n",
       "       [ 0.2123439 ],\n",
       "       [-0.19305177],\n",
       "       [-0.47253382],\n",
       "       [-0.23329762]], dtype=float32)"
      ]
     },
     "execution_count": 17,
     "metadata": {},
     "output_type": "execute_result"
    }
   ],
   "source": [
    "diff_values3 = difference(raw_values3, 1)\n",
    "\n",
    "# transform data to be supervised learning\n",
    "supervised = timeseries_to_supervised(diff_values3, 1)\n",
    "supervised_values = supervised.values\n",
    "\n",
    "# split data into train and test-sets\n",
    "train, test = supervised_values[0:-3], supervised_values[-3:]\n",
    "\n",
    "# transform the scale of the data\n",
    "scaler, train_scaled, test_scaled = scale(train, test)\n",
    "\n",
    "# fit the model\n",
    "lstm_model, history = fit_lstm(train_scaled, 1, 1500, 1)\n",
    "# forecast the entire training dataset to build up state for forecasting\n",
    "train_reshaped = train_scaled[:, 0].reshape(len(train_scaled), 1, 1)\n",
    "lstm_model.predict(train_reshaped, batch_size=1)\n"
   ]
  },
  {
   "cell_type": "code",
   "execution_count": 18,
   "metadata": {},
   "outputs": [
    {
     "name": "stdout",
     "output_type": "stream",
     "text": [
      "1/1 [==============================] - 0s 15ms/step\n",
      "Month=1, Predicted=2992.142409, Expected=3001.920000\n",
      "1/1 [==============================] - 0s 16ms/step\n",
      "Month=2, Predicted=2993.318813, Expected=3009.820800\n",
      "1/1 [==============================] - 0s 13ms/step\n",
      "Month=3, Predicted=2997.821427, Expected=2997.898600\n"
     ]
    }
   ],
   "source": [
    "# walk-forward validation on the test data\n",
    "predictions = list()\n",
    "for i in range(len(test_scaled)):\n",
    "\t# make one-step forecast\n",
    "\tX, y = test_scaled[i, 0:-1], test_scaled[i, -1]\n",
    "\tyhat = forecast_lstm(lstm_model, 1, X)\n",
    "\t# invert scaling\n",
    "\tyhat = invert_scale(scaler, X, yhat)\n",
    "\t# invert differencing\n",
    "\tyhat = inverse_difference(raw_values3, yhat, len(test_scaled)+1-i)\n",
    "\t# store forecast\n",
    "\tpredictions.append(yhat)\n",
    "\texpected = raw_values3[len(train) + i + 1]\n",
    "\tprint('Month=%d, Predicted=%f, Expected=%f' % (i+1, yhat, expected))"
   ]
  },
  {
   "cell_type": "code",
   "execution_count": 19,
   "metadata": {},
   "outputs": [
    {
     "name": "stdout",
     "output_type": "stream",
     "text": [
      "Test RMSE: 11.074\n",
      "Test MAE: 8.786\n"
     ]
    },
    {
     "data": {
      "image/png": "[encoded data removed]",
      "text/plain": [
       "<Figure size 432x288 with 1 Axes>"
      ]
     },
     "metadata": {
      "needs_background": "light"
     },
     "output_type": "display_data"
    }
   ],
   "source": [
    "# report performance\n",
    "rmse = sqrt(mean_squared_error(raw_values3[-3:], predictions))\n",
    "print('Test RMSE: %.3f' % rmse)\n",
    "\n",
    "mae = mean_absolute_error(raw_values3[-3:], predictions)\n",
    "print('Test MAE: %.3f' % mae)\n",
    "# line plot of observed vs predicted\n",
    "pyplot.plot(raw_values3[-3:])\n",
    "pyplot.plot(predictions)\n",
    "pyplot.show()"
   ]
  },
  {
   "cell_type": "code",
   "execution_count": null,
   "metadata": {},
   "outputs": [],
   "source": []
  }
 ],
 "metadata": {
  "kernelspec": {
   "display_name": "fastapi",
   "language": "python",
   "name": "python3"
  },
  "language_info": {
   "codemirror_mode": {
    "name": "ipython",
    "version": 3
   },
   "file_extension": ".py",
   "mimetype": "text/x-python",
   "name": "python",
   "nbconvert_exporter": "python",
   "pygments_lexer": "ipython3",
   "version": "3.7.6"
  }
 },
 "nbformat": 4,
 "nbformat_minor": 2
}
