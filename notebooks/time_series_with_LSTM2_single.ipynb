{
 "cells": [
  {
   "cell_type": "code",
   "execution_count": 1,
   "metadata": {},
   "outputs": [
    {
     "name": "stderr",
     "output_type": "stream",
     "text": [
      "/home/sam/anaconda3/lib/python3.7/site-packages/ipykernel_launcher.py:5: FutureWarning: The pandas.datetime class is deprecated and will be removed from pandas in a future version. Import from datetime module instead.\n",
      "  \"\"\"\n",
      "/home/sam/anaconda3/lib/python3.7/importlib/_bootstrap.py:219: RuntimeWarning: numpy.ndarray size changed, may indicate binary incompatibility. Expected 80 from C header, got 88 from PyObject\n",
      "  return f(*args, **kwds)\n"
     ]
    }
   ],
   "source": [
    "from pandas import DataFrame\n",
    "from pandas import Series\n",
    "from pandas import concat\n",
    "from pandas import read_csv\n",
    "from pandas import datetime\n",
    "from sklearn.metrics import mean_squared_error, mean_absolute_error\n",
    "from sklearn.preprocessing import MinMaxScaler\n",
    "from keras.models import Sequential\n",
    "from keras.layers import Dense\n",
    "from keras.layers import LSTM\n",
    "from math import sqrt\n",
    "from matplotlib import pyplot\n",
    "import numpy\n"
   ]
  },
  {
   "cell_type": "code",
   "execution_count": 2,
   "metadata": {},
   "outputs": [],
   "source": [
    "series = read_csv('../data/single bill for cluster 0.csv', usecols=[1], engine='python')\n",
    "# transform data to be stationary\n",
    "raw_values = series.values"
   ]
  },
  {
   "cell_type": "code",
   "execution_count": 3,
   "metadata": {},
   "outputs": [],
   "source": [
    "series2 = read_csv('../data/single bill for cluster 1.csv', usecols=[1], engine='python')\n",
    "# transform data to be stationary\n",
    "raw_values2 = series2.values"
   ]
  },
  {
   "cell_type": "code",
   "execution_count": 4,
   "metadata": {},
   "outputs": [],
   "source": [
    "series3 = read_csv('../data/single bill for cluster 2.csv .csv', usecols=[1], engine='python')\n",
    "# transform data to be stationary\n",
    "raw_values3 = series3.values"
   ]
  },
  {
   "cell_type": "code",
   "execution_count": 5,
   "metadata": {},
   "outputs": [],
   "source": [
    "def timeseries_to_supervised(data, lag=1):\n",
    "\tdf = DataFrame(data)\n",
    "\tcolumns = [df.shift(i) for i in range(1, lag+1)]\n",
    "\tcolumns.append(df)\n",
    "\tdf = concat(columns, axis=1)\n",
    "\tdf.fillna(0, inplace=True)\n",
    "\treturn df"
   ]
  },
  {
   "cell_type": "code",
   "execution_count": 6,
   "metadata": {},
   "outputs": [],
   "source": [
    "# create a differenced series\n",
    "def difference(dataset, interval=1):\n",
    "\tdiff = list()\n",
    "\tfor i in range(interval, len(dataset)):\n",
    "\t\tvalue = dataset[i] - dataset[i - interval]\n",
    "\t\tdiff.append(value)\n",
    "\treturn Series(diff)\n",
    "\n",
    "# invert differenced value\n",
    "def inverse_difference(history, yhat, interval=1):\n",
    "\treturn yhat + history[-interval]\n",
    "\n",
    "# scale train and test data to [-1, 1]\n",
    "def scale(train, test):\n",
    "\t# fit scaler\n",
    "\tscaler = MinMaxScaler(feature_range=(-1, 1))\n",
    "\tscaler = scaler.fit(train)\n",
    "\t# transform train\n",
    "\ttrain = train.reshape(train.shape[0], train.shape[1])\n",
    "\ttrain_scaled = scaler.transform(train)\n",
    "\t# transform test\n",
    "\ttest = test.reshape(test.shape[0], test.shape[1])\n",
    "\ttest_scaled = scaler.transform(test)\n",
    "\treturn scaler, train_scaled, test_scaled\n",
    "\n",
    "# inverse scaling for a forecasted value\n",
    "def invert_scale(scaler, X, value):\n",
    "\tnew_row = [x for x in X] + [value]\n",
    "\tarray = numpy.array(new_row)\n",
    "\tarray = array.reshape(1, len(array))\n",
    "\tinverted = scaler.inverse_transform(array)\n",
    "\treturn inverted[0, -1]"
   ]
  },
  {
   "cell_type": "code",
   "execution_count": 7,
   "metadata": {},
   "outputs": [],
   "source": [
    "\n",
    "\n",
    "# fit an LSTM network to training data\n",
    "def fit_lstm(train, batch_size, nb_epoch, neurons):\n",
    "\tX, y = train[:, 0:-1], train[:, -1]\n",
    "\tX = X.reshape(X.shape[0], 1, X.shape[1])\n",
    "\tmodel = Sequential()\n",
    "\tmodel.add(LSTM(neurons, batch_input_shape=(batch_size, X.shape[1], X.shape[2]), stateful=True))\n",
    "\tmodel.add(Dense(1))\n",
    "\tmodel.compile(loss='mean_squared_error', optimizer='adam')\n",
    "\tfor i in range(nb_epoch):\n",
    "\t\tmodel.fit(X, y, epochs=1, batch_size=batch_size, verbose=0, shuffle=False)\n",
    "\t\tmodel.reset_states()\n",
    "\treturn model\n",
    "\n",
    "# make a one-step forecast\n",
    "def forecast_lstm(model, batch_size, X):\n",
    "\tX = X.reshape(1, 1, len(X))\n",
    "\tyhat = model.predict(X, batch_size=batch_size)\n",
    "\treturn yhat[0,0]"
   ]
  },
  {
   "cell_type": "markdown",
   "metadata": {},
   "source": [
    "### For Cluster 0"
   ]
  },
  {
   "cell_type": "code",
   "execution_count": 8,
   "metadata": {},
   "outputs": [
    {
     "name": "stdout",
     "output_type": "stream",
     "text": [
      "44/44 [==============================] - 0s 1ms/step\n"
     ]
    },
    {
     "data": {
      "text/plain": [
       "array([[ 0.01624356],\n",
       "       [-0.66504323],\n",
       "       [ 0.5333264 ],\n",
       "       [-0.04345846],\n",
       "       [ 0.4396793 ],\n",
       "       [-0.10145509],\n",
       "       [ 0.42999783],\n",
       "       [ 0.45308393],\n",
       "       [-0.12024716],\n",
       "       [-0.60630953],\n",
       "       [ 0.08259171],\n",
       "       [-0.30902648],\n",
       "       [ 0.49146923],\n",
       "       [ 0.04489651],\n",
       "       [ 0.428034  ],\n",
       "       [-0.1735067 ],\n",
       "       [-0.4896272 ],\n",
       "       [-0.4688606 ],\n",
       "       [ 0.5043963 ],\n",
       "       [-0.06686425],\n",
       "       [-0.47140488],\n",
       "       [ 0.5096488 ],\n",
       "       [-0.07361872],\n",
       "       [ 0.48807025],\n",
       "       [-0.10223344],\n",
       "       [-0.2686288 ],\n",
       "       [ 0.49484587],\n",
       "       [-0.04220606],\n",
       "       [-0.05777766],\n",
       "       [-0.42456618],\n",
       "       [ 0.11563793],\n",
       "       [ 0.08797011],\n",
       "       [ 0.47099638],\n",
       "       [ 0.24715966],\n",
       "       [-0.41111216],\n",
       "       [ 0.47367007],\n",
       "       [-0.06858605],\n",
       "       [-0.44374874],\n",
       "       [ 0.2950661 ],\n",
       "       [-0.3036224 ],\n",
       "       [ 0.4892283 ],\n",
       "       [ 0.04267745],\n",
       "       [ 0.47865808],\n",
       "       [-0.11378527]], dtype=float32)"
      ]
     },
     "execution_count": 8,
     "metadata": {},
     "output_type": "execute_result"
    }
   ],
   "source": [
    "diff_values = difference(raw_values, 1)\n",
    "\n",
    "# transform data to be supervised learning\n",
    "supervised = timeseries_to_supervised(diff_values, 1)\n",
    "supervised_values = supervised.values\n",
    "\n",
    "# split data into train and test-sets\n",
    "train, test = supervised_values[0:-3], supervised_values[-3:]\n",
    "\n",
    "# transform the scale of the data\n",
    "scaler, train_scaled, test_scaled = scale(train, test)\n",
    "\n",
    "# fit the model\n",
    "lstm_model = fit_lstm(train_scaled, 1, 1500, 1)\n",
    "# forecast the entire training dataset to build up state for forecasting\n",
    "train_reshaped = train_scaled[:, 0].reshape(len(train_scaled), 1, 1)\n",
    "lstm_model.predict(train_reshaped, batch_size=1)\n"
   ]
  },
  {
   "cell_type": "code",
   "execution_count": 9,
   "metadata": {},
   "outputs": [
    {
     "name": "stdout",
     "output_type": "stream",
     "text": [
      "1/1 [==============================] - 0s 16ms/step\n",
      "Month=1, Predicted=1507.132337, Expected=2107.000000\n",
      "1/1 [==============================] - 0s 19ms/step\n",
      "Month=2, Predicted=1346.610995, Expected=1324.000000\n",
      "1/1 [==============================] - 0s 16ms/step\n",
      "Month=3, Predicted=2073.522733, Expected=1050.000000\n"
     ]
    }
   ],
   "source": [
    "# walk-forward validation on the test data\n",
    "predictions = list()\n",
    "for i in range(len(test_scaled)):\n",
    "\t# make one-step forecast\n",
    "\tX, y = test_scaled[i, 0:-1], test_scaled[i, -1]\n",
    "\tyhat = forecast_lstm(lstm_model, 1, X)\n",
    "\t# invert scaling\n",
    "\tyhat = invert_scale(scaler, X, yhat)\n",
    "\t# invert differencing\n",
    "\tyhat = inverse_difference(raw_values, yhat, len(test_scaled)+1-i)\n",
    "\t# store forecast\n",
    "\tpredictions.append(yhat)\n",
    "\texpected = raw_values[len(train) + i + 1]\n",
    "\tprint('Month=%d, Predicted=%f, Expected=%f' % (i+1, yhat, expected))"
   ]
  },
  {
   "cell_type": "code",
   "execution_count": 10,
   "metadata": {},
   "outputs": [
    {
     "name": "stdout",
     "output_type": "stream",
     "text": [
      "Test RMSE: 685.067\n",
      "Test MAE: 548.667\n"
     ]
    },
    {
     "data": {
      "image/png": "[encoded data removed]",
      "text/plain": [
       "<Figure size 432x288 with 1 Axes>"
      ]
     },
     "metadata": {
      "needs_background": "light"
     },
     "output_type": "display_data"
    }
   ],
   "source": [
    "# report performance\n",
    "rmse = sqrt(mean_squared_error(raw_values[-3:], predictions))\n",
    "print('Test RMSE: %.3f' % rmse)\n",
    "\n",
    "mae = mean_absolute_error(raw_values[-3:], predictions)\n",
    "print('Test MAE: %.3f' % mae)\n",
    "# line plot of observed vs predicted\n",
    "pyplot.plot(raw_values[-3:])\n",
    "pyplot.plot(predictions)\n",
    "pyplot.show()"
   ]
  },
  {
   "cell_type": "code",
   "execution_count": null,
   "metadata": {},
   "outputs": [],
   "source": []
  },
  {
   "cell_type": "markdown",
   "metadata": {},
   "source": [
    "### For Cluster 1"
   ]
  },
  {
   "cell_type": "code",
   "execution_count": 11,
   "metadata": {},
   "outputs": [
    {
     "name": "stdout",
     "output_type": "stream",
     "text": [
      "44/44 [==============================] - 0s 1ms/step\n"
     ]
    },
    {
     "data": {
      "text/plain": [
       "array([[ 0.25767186],\n",
       "       [-0.5049919 ],\n",
       "       [ 0.15109634],\n",
       "       [-0.5506119 ],\n",
       "       [-0.27764833],\n",
       "       [ 0.27441043],\n",
       "       [-0.57592374],\n",
       "       [ 0.09026479],\n",
       "       [ 0.13745506],\n",
       "       [-0.11057241],\n",
       "       [-0.74794513],\n",
       "       [-0.31689876],\n",
       "       [ 0.05481504],\n",
       "       [-0.005051  ],\n",
       "       [-0.20535138],\n",
       "       [ 0.38168696],\n",
       "       [-0.3396678 ],\n",
       "       [-0.38835633],\n",
       "       [ 0.26556534],\n",
       "       [-0.02529842],\n",
       "       [-0.14475355],\n",
       "       [ 0.24631557],\n",
       "       [-0.08776714],\n",
       "       [ 0.17730784],\n",
       "       [-0.3781707 ],\n",
       "       [ 0.25643718],\n",
       "       [-0.19537148],\n",
       "       [-0.4151293 ],\n",
       "       [-0.551238  ],\n",
       "       [ 0.10389686],\n",
       "       [ 0.451548  ],\n",
       "       [-0.36371118],\n",
       "       [-0.5565642 ],\n",
       "       [ 0.07130674],\n",
       "       [ 0.50071853],\n",
       "       [-0.4662292 ],\n",
       "       [ 0.17741644],\n",
       "       [ 0.01181247],\n",
       "       [ 0.47147965],\n",
       "       [ 0.35031015],\n",
       "       [-0.03454481],\n",
       "       [ 0.36965594],\n",
       "       [ 0.5589577 ],\n",
       "       [ 0.47691873]], dtype=float32)"
      ]
     },
     "execution_count": 11,
     "metadata": {},
     "output_type": "execute_result"
    }
   ],
   "source": [
    "diff_values2 = difference(raw_values2, 1)\n",
    "\n",
    "# transform data to be supervised learning\n",
    "supervised = timeseries_to_supervised(diff_values2, 1)\n",
    "supervised_values = supervised.values\n",
    "\n",
    "# split data into train and test-sets\n",
    "train, test = supervised_values[0:-3], supervised_values[-3:]\n",
    "\n",
    "# transform the scale of the data\n",
    "scaler, train_scaled, test_scaled = scale(train, test)\n",
    "\n",
    "# fit the model\n",
    "lstm_model = fit_lstm(train_scaled, 1, 1500, 1)\n",
    "# forecast the entire training dataset to build up state for forecasting\n",
    "train_reshaped = train_scaled[:, 0].reshape(len(train_scaled), 1, 1)\n",
    "lstm_model.predict(train_reshaped, batch_size=1)\n"
   ]
  },
  {
   "cell_type": "code",
   "execution_count": 12,
   "metadata": {},
   "outputs": [
    {
     "name": "stdout",
     "output_type": "stream",
     "text": [
      "1/1 [==============================] - 0s 13ms/step\n",
      "Month=1, Predicted=303.684607, Expected=53.000000\n",
      "1/1 [==============================] - 0s 14ms/step\n",
      "Month=2, Predicted=146.101494, Expected=185.000000\n",
      "1/1 [==============================] - 0s 12ms/step\n",
      "Month=3, Predicted=117.145428, Expected=52.000000\n"
     ]
    }
   ],
   "source": [
    "# walk-forward validation on the test data\n",
    "predictions = list()\n",
    "for i in range(len(test_scaled)):\n",
    "\t# make one-step forecast\n",
    "\tX, y = test_scaled[i, 0:-1], test_scaled[i, -1]\n",
    "\tyhat = forecast_lstm(lstm_model, 1, X)\n",
    "\t# invert scaling\n",
    "\tyhat = invert_scale(scaler, X, yhat)\n",
    "\t# invert differencing\n",
    "\tyhat = inverse_difference(raw_values2, yhat, len(test_scaled)+1-i)\n",
    "\t# store forecast\n",
    "\tpredictions.append(yhat)\n",
    "\texpected = raw_values2[len(train) + i + 1]\n",
    "\tprint('Month=%d, Predicted=%f, Expected=%f' % (i+1, yhat, expected))"
   ]
  },
  {
   "cell_type": "code",
   "execution_count": 13,
   "metadata": {},
   "outputs": [
    {
     "name": "stdout",
     "output_type": "stream",
     "text": [
      "Test RMSE: 151.217\n",
      "Test MAE: 151.217\n"
     ]
    },
    {
     "data": {
      "image/png": "[encoded data removed]",
      "text/plain": [
       "<Figure size 432x288 with 1 Axes>"
      ]
     },
     "metadata": {
      "needs_background": "light"
     },
     "output_type": "display_data"
    }
   ],
   "source": [
    "# report performance\n",
    "rmse = sqrt(mean_squared_error(raw_values2[-3:], predictions))\n",
    "print('Test RMSE: %.3f' % rmse)\n",
    "\n",
    "mae = sqrt(mean_squared_error(raw_values2[-3:], predictions))\n",
    "print('Test MAE: %.3f' % mae)\n",
    "# line plot of observed vs predicted\n",
    "pyplot.plot(raw_values2[-3:])\n",
    "pyplot.plot(predictions)\n",
    "pyplot.show()"
   ]
  },
  {
   "cell_type": "code",
   "execution_count": null,
   "metadata": {},
   "outputs": [],
   "source": []
  },
  {
   "cell_type": "markdown",
   "metadata": {},
   "source": [
    "### For Cluster 2"
   ]
  },
  {
   "cell_type": "code",
   "execution_count": 14,
   "metadata": {},
   "outputs": [
    {
     "name": "stdout",
     "output_type": "stream",
     "text": [
      "44/44 [==============================] - 0s 918us/step\n"
     ]
    },
    {
     "data": {
      "text/plain": [
       "array([[-0.10207488],\n",
       "       [-0.45067358],\n",
       "       [-0.22613159],\n",
       "       [-0.5553447 ],\n",
       "       [-0.10844368],\n",
       "       [ 0.05456425],\n",
       "       [-0.23574579],\n",
       "       [ 0.00701722],\n",
       "       [ 0.19498019],\n",
       "       [-0.3442875 ],\n",
       "       [ 0.320593  ],\n",
       "       [ 0.13988306],\n",
       "       [-0.45878392],\n",
       "       [-0.20979027],\n",
       "       [-0.17762977],\n",
       "       [-0.42468297],\n",
       "       [ 0.29351395],\n",
       "       [-0.602639  ],\n",
       "       [ 0.20020328],\n",
       "       [-0.17717081],\n",
       "       [ 0.35061866],\n",
       "       [ 0.00061932],\n",
       "       [-0.5776624 ],\n",
       "       [-0.2771613 ],\n",
       "       [ 0.25004202],\n",
       "       [ 0.50103635],\n",
       "       [ 0.43087083],\n",
       "       [-0.47024488],\n",
       "       [ 0.06526439],\n",
       "       [ 0.00286604],\n",
       "       [-0.11077981],\n",
       "       [ 0.1639217 ],\n",
       "       [ 0.33446813],\n",
       "       [ 0.08500305],\n",
       "       [-0.28441805],\n",
       "       [ 0.30135155],\n",
       "       [-0.03611847],\n",
       "       [ 0.05676283],\n",
       "       [-0.401798  ],\n",
       "       [ 0.18076755],\n",
       "       [-0.11384147],\n",
       "       [ 0.10565025],\n",
       "       [ 0.41369927],\n",
       "       [ 0.06650332]], dtype=float32)"
      ]
     },
     "execution_count": 14,
     "metadata": {},
     "output_type": "execute_result"
    }
   ],
   "source": [
    "diff_values3 = difference(raw_values3, 1)\n",
    "\n",
    "# transform data to be supervised learning\n",
    "supervised = timeseries_to_supervised(diff_values3, 1)\n",
    "supervised_values = supervised.values\n",
    "\n",
    "# split data into train and test-sets\n",
    "train, test = supervised_values[0:-3], supervised_values[-3:]\n",
    "\n",
    "# transform the scale of the data\n",
    "scaler, train_scaled, test_scaled = scale(train, test)\n",
    "\n",
    "# fit the model\n",
    "lstm_model = fit_lstm(train_scaled, 1, 1500, 1)\n",
    "# forecast the entire training dataset to build up state for forecasting\n",
    "train_reshaped = train_scaled[:, 0].reshape(len(train_scaled), 1, 1)\n",
    "lstm_model.predict(train_reshaped, batch_size=1)\n"
   ]
  },
  {
   "cell_type": "code",
   "execution_count": 15,
   "metadata": {},
   "outputs": [
    {
     "name": "stdout",
     "output_type": "stream",
     "text": [
      "1/1 [==============================] - 0s 17ms/step\n",
      "Month=1, Predicted=2964.136482, Expected=2889.000000\n",
      "1/1 [==============================] - 0s 11ms/step\n",
      "Month=2, Predicted=3013.266735, Expected=2209.000000\n",
      "1/1 [==============================] - 0s 11ms/step\n",
      "Month=3, Predicted=2872.208411, Expected=2589.000000\n"
     ]
    }
   ],
   "source": [
    "# walk-forward validation on the test data\n",
    "predictions = list()\n",
    "for i in range(len(test_scaled)):\n",
    "\t# make one-step forecast\n",
    "\tX, y = test_scaled[i, 0:-1], test_scaled[i, -1]\n",
    "\tyhat = forecast_lstm(lstm_model, 1, X)\n",
    "\t# invert scaling\n",
    "\tyhat = invert_scale(scaler, X, yhat)\n",
    "\t# invert differencing\n",
    "\tyhat = inverse_difference(raw_values3, yhat, len(test_scaled)+1-i)\n",
    "\t# store forecast\n",
    "\tpredictions.append(yhat)\n",
    "\texpected = raw_values3[len(train) + i + 1]\n",
    "\tprint('Month=%d, Predicted=%f, Expected=%f' % (i+1, yhat, expected))"
   ]
  },
  {
   "cell_type": "code",
   "execution_count": 16,
   "metadata": {},
   "outputs": [
    {
     "name": "stdout",
     "output_type": "stream",
     "text": [
      "Test RMSE: 494.199\n",
      "Test MAE: 1456.204\n"
     ]
    },
    {
     "data": {
      "image/png": "[encoded data removed]",
      "text/plain": [
       "<Figure size 432x288 with 1 Axes>"
      ]
     },
     "metadata": {
      "needs_background": "light"
     },
     "output_type": "display_data"
    }
   ],
   "source": [
    "# report performance\n",
    "rmse = sqrt(mean_squared_error(raw_values3[-3:], predictions))\n",
    "print('Test RMSE: %.3f' % rmse)\n",
    "\n",
    "mae = mean_absolute_error(raw_values[-3:], predictions)\n",
    "print('Test MAE: %.3f' % mae)\n",
    "# line plot of observed vs predicted\n",
    "pyplot.plot(raw_values3[-3:])\n",
    "pyplot.plot(predictions)\n",
    "pyplot.show()"
   ]
  },
  {
   "cell_type": "code",
   "execution_count": null,
   "metadata": {},
   "outputs": [],
   "source": []
  },
  {
   "cell_type": "code",
   "execution_count": null,
   "metadata": {},
   "outputs": [],
   "source": []
  },
  {
   "cell_type": "code",
   "execution_count": null,
   "metadata": {},
   "outputs": [],
   "source": []
  },
  {
   "cell_type": "code",
   "execution_count": null,
   "metadata": {},
   "outputs": [],
   "source": []
  },
  {
   "cell_type": "code",
   "execution_count": null,
   "metadata": {},
   "outputs": [],
   "source": []
  },
  {
   "cell_type": "code",
   "execution_count": null,
   "metadata": {},
   "outputs": [],
   "source": []
  }
 ],
 "metadata": {
  "kernelspec": {
   "display_name": "fastapi",
   "language": "python",
   "name": "python3"
  },
  "language_info": {
   "codemirror_mode": {
    "name": "ipython",
    "version": 3
   },
   "file_extension": ".py",
   "mimetype": "text/x-python",
   "name": "python",
   "nbconvert_exporter": "python",
   "pygments_lexer": "ipython3",
   "version": "3.7.6"
  }
 },
 "nbformat": 4,
 "nbformat_minor": 2
}
